{
 "cells": [
  {
   "cell_type": "markdown",
   "id": "7c7f21ea",
   "metadata": {},
   "source": [
    "# I. Import Lib and Data"
   ]
  },
  {
   "cell_type": "markdown",
   "id": "caa30df9",
   "metadata": {},
   "source": [
    "## 1.1 Import Utils"
   ]
  },
  {
   "cell_type": "code",
   "execution_count": 1,
   "id": "395d19b6",
   "metadata": {},
   "outputs": [
    {
     "data": {
      "text/plain": [
       "<module 'eda_utils' from 'e:\\\\SkyRevenue Insights\\\\1. Data Preprocessing\\\\../utils\\\\eda_utils.py'>"
      ]
     },
     "execution_count": 1,
     "metadata": {},
     "output_type": "execute_result"
    }
   ],
   "source": [
    "# Import utils\n",
    "import sys \n",
    "sys.path.append('../utils')\n",
    "import importlib\n",
    "\n",
    "import eda_utils as utils\n",
    "importlib.reload(utils)"
   ]
  },
  {
   "cell_type": "markdown",
   "id": "79ac288b",
   "metadata": {},
   "source": [
    "## 1.2 Import Lib"
   ]
  },
  {
   "cell_type": "code",
   "execution_count": 2,
   "id": "1e3f5481",
   "metadata": {},
   "outputs": [],
   "source": [
    "# Import Lib\n",
    "import pandas as pd\n",
    "import numpy as np\n",
    "import matplotlib.pyplot as plt\n",
    "import seaborn as sns\n",
    "%matplotlib inline\n",
    "from IPython.display import Image, display"
   ]
  },
  {
   "cell_type": "markdown",
   "id": "098ccc96",
   "metadata": {},
   "source": [
    "## 1.3 Import Data"
   ]
  },
  {
   "cell_type": "code",
   "execution_count": 3,
   "id": "315c4530",
   "metadata": {},
   "outputs": [
    {
     "name": "stdout",
     "output_type": "stream",
     "text": [
      "File tồn tại!\n"
     ]
    },
    {
     "data": {
      "application/vnd.microsoft.datawrangler.viewer.v0+json": {
       "columns": [
        {
         "name": "index",
         "rawType": "int64",
         "type": "integer"
        },
        {
         "name": "order_id",
         "rawType": "int64",
         "type": "integer"
        },
        {
         "name": "ticket_id",
         "rawType": "int64",
         "type": "integer"
        },
        {
         "name": "passenger_id",
         "rawType": "object",
         "type": "string"
        },
        {
         "name": "passenger_gender",
         "rawType": "object",
         "type": "string"
        },
        {
         "name": "passenger_age",
         "rawType": "float64",
         "type": "float"
        },
        {
         "name": "ticket_source_name",
         "rawType": "object",
         "type": "string"
        },
        {
         "name": "ticket_status",
         "rawType": "object",
         "type": "string"
        },
        {
         "name": "created_date",
         "rawType": "datetime64[ns]",
         "type": "datetime"
        },
        {
         "name": "departure_date",
         "rawType": "datetime64[ns]",
         "type": "datetime"
        },
        {
         "name": "departure_time",
         "rawType": "object",
         "type": "unknown"
        },
        {
         "name": "arrival_date",
         "rawType": "datetime64[ns]",
         "type": "datetime"
        },
        {
         "name": "arrival_time",
         "rawType": "object",
         "type": "unknown"
        },
        {
         "name": "from_to_location",
         "rawType": "object",
         "type": "string"
        },
        {
         "name": "from_to",
         "rawType": "object",
         "type": "string"
        },
        {
         "name": "airline",
         "rawType": "object",
         "type": "string"
        },
        {
         "name": "seat_class",
         "rawType": "object",
         "type": "string"
        },
        {
         "name": "ticket_price",
         "rawType": "int64",
         "type": "integer"
        },
        {
         "name": "baggage",
         "rawType": "int64",
         "type": "integer"
        },
        {
         "name": "insurance_fee",
         "rawType": "float64",
         "type": "float"
        },
        {
         "name": "discount_amount",
         "rawType": "int64",
         "type": "integer"
        }
       ],
       "conversionMethod": "pd.DataFrame",
       "ref": "6b3c2e3e-791d-441e-b38e-3bccd0aec677",
       "rows": [
        [
         "0",
         "20205",
         "31268",
         "Xs1fLinPQun+Oy/mD0FlfXMyJD38YlXJfXNbz+qO+5U=",
         "Female",
         "40.0",
         "IOS",
         "Paid",
         "2023-03-01 00:00:00",
         "2023-03-14 00:00:00",
         "17:55:00",
         "2023-03-14 00:00:00",
         "18:55:00",
         "BMV - SGN",
         "Đắk Lắk - Hồ Chí Minh",
         "Ry/OjEDP12vfMWbnat5Mudc3PE4qIK/wwfCkBE5zGlM=",
         "I1_ECO",
         "867760",
         "0",
         "0.0",
         "45000"
        ],
        [
         "1",
         "20190",
         "31242",
         "m/auVlEoaGSe2MqR/Lq4CFXJnI8zauNyF/KiFmMgXHs=",
         "Female",
         "40.0",
         "GYL",
         "Paid",
         "2023-03-01 00:00:00",
         "2023-03-02 00:00:00",
         "09:30:00",
         "2023-03-02 00:00:00",
         "10:30:00",
         "BMV - SGN",
         "Đắk Lắk - Hồ Chí Minh",
         "Ry/OjEDP12vfMWbnat5Mudc3PE4qIK/wwfCkBE5zGlM=",
         "Z1_ECO",
         "974280",
         "0",
         "0.0",
         "45000"
        ],
        [
         "2",
         "20245",
         "31337",
         "6HvtV2vTqUfNBJ53C4TzvJnb0s74KgcRNuUVS+8jRvU=",
         "Female",
         "48.0",
         "IOS",
         "Paid",
         "2023-03-01 00:00:00",
         "2023-04-10 00:00:00",
         "13:10:00",
         "2023-04-10 00:00:00",
         "14:35:00",
         "HUI - SGN",
         "Thừa Thiên Huế - Hồ Chí Minh",
         "Ry/OjEDP12vfMWbnat5Mudc3PE4qIK/wwfCkBE5zGlM=",
         "J1_ECO",
         "1423080",
         "0",
         "0.0",
         "16000"
        ],
        [
         "3",
         "20259",
         "31360",
         "WiK2P31WEd4mckRNVWz0C2aKKRgSrauAG8NdfTLnKjE=",
         "Male",
         "29.0",
         "Android",
         "New",
         "2023-03-01 00:00:00",
         "2023-04-10 00:00:00",
         "13:10:00",
         "2023-04-10 00:00:00",
         "14:35:00",
         "HUI - SGN",
         "Thừa Thiên Huế - Hồ Chí Minh",
         "Ry/OjEDP12vfMWbnat5Mudc3PE4qIK/wwfCkBE5zGlM=",
         "J1_ECO",
         "1067310",
         "0",
         "0.0",
         "45000"
        ],
        [
         "4",
         "20255",
         "31355",
         "6HvtV2vTqUfNBJ53C4TzvJnb0s74KgcRNuUVS+8jRvU=",
         "Female",
         "42.0",
         "IOS",
         "Paid",
         "2023-03-01 00:00:00",
         "2023-04-10 00:00:00",
         "13:10:00",
         "2023-04-10 00:00:00",
         "14:35:00",
         "HUI - SGN",
         "Thừa Thiên Huế - Hồ Chí Minh",
         "Ry/OjEDP12vfMWbnat5Mudc3PE4qIK/wwfCkBE5zGlM=",
         "J1_ECO",
         "1067310",
         "0",
         "0.0",
         "24000"
        ]
       ],
       "shape": {
        "columns": 20,
        "rows": 5
       }
      },
      "text/html": [
       "<div>\n",
       "<style scoped>\n",
       "    .dataframe tbody tr th:only-of-type {\n",
       "        vertical-align: middle;\n",
       "    }\n",
       "\n",
       "    .dataframe tbody tr th {\n",
       "        vertical-align: top;\n",
       "    }\n",
       "\n",
       "    .dataframe thead th {\n",
       "        text-align: right;\n",
       "    }\n",
       "</style>\n",
       "<table border=\"1\" class=\"dataframe\">\n",
       "  <thead>\n",
       "    <tr style=\"text-align: right;\">\n",
       "      <th></th>\n",
       "      <th>order_id</th>\n",
       "      <th>ticket_id</th>\n",
       "      <th>passenger_id</th>\n",
       "      <th>passenger_gender</th>\n",
       "      <th>passenger_age</th>\n",
       "      <th>ticket_source_name</th>\n",
       "      <th>ticket_status</th>\n",
       "      <th>created_date</th>\n",
       "      <th>departure_date</th>\n",
       "      <th>departure_time</th>\n",
       "      <th>arrival_date</th>\n",
       "      <th>arrival_time</th>\n",
       "      <th>from_to_location</th>\n",
       "      <th>from_to</th>\n",
       "      <th>airline</th>\n",
       "      <th>seat_class</th>\n",
       "      <th>ticket_price</th>\n",
       "      <th>baggage</th>\n",
       "      <th>insurance_fee</th>\n",
       "      <th>discount_amount</th>\n",
       "    </tr>\n",
       "  </thead>\n",
       "  <tbody>\n",
       "    <tr>\n",
       "      <th>0</th>\n",
       "      <td>20205</td>\n",
       "      <td>31268</td>\n",
       "      <td>Xs1fLinPQun+Oy/mD0FlfXMyJD38YlXJfXNbz+qO+5U=</td>\n",
       "      <td>Female</td>\n",
       "      <td>40.0</td>\n",
       "      <td>IOS</td>\n",
       "      <td>Paid</td>\n",
       "      <td>2023-03-01</td>\n",
       "      <td>2023-03-14</td>\n",
       "      <td>17:55:00</td>\n",
       "      <td>2023-03-14</td>\n",
       "      <td>18:55:00</td>\n",
       "      <td>BMV - SGN</td>\n",
       "      <td>Đắk Lắk - Hồ Chí Minh</td>\n",
       "      <td>Ry/OjEDP12vfMWbnat5Mudc3PE4qIK/wwfCkBE5zGlM=</td>\n",
       "      <td>I1_ECO</td>\n",
       "      <td>867760</td>\n",
       "      <td>0</td>\n",
       "      <td>0.0</td>\n",
       "      <td>45000</td>\n",
       "    </tr>\n",
       "    <tr>\n",
       "      <th>1</th>\n",
       "      <td>20190</td>\n",
       "      <td>31242</td>\n",
       "      <td>m/auVlEoaGSe2MqR/Lq4CFXJnI8zauNyF/KiFmMgXHs=</td>\n",
       "      <td>Female</td>\n",
       "      <td>40.0</td>\n",
       "      <td>GYL</td>\n",
       "      <td>Paid</td>\n",
       "      <td>2023-03-01</td>\n",
       "      <td>2023-03-02</td>\n",
       "      <td>09:30:00</td>\n",
       "      <td>2023-03-02</td>\n",
       "      <td>10:30:00</td>\n",
       "      <td>BMV - SGN</td>\n",
       "      <td>Đắk Lắk - Hồ Chí Minh</td>\n",
       "      <td>Ry/OjEDP12vfMWbnat5Mudc3PE4qIK/wwfCkBE5zGlM=</td>\n",
       "      <td>Z1_ECO</td>\n",
       "      <td>974280</td>\n",
       "      <td>0</td>\n",
       "      <td>0.0</td>\n",
       "      <td>45000</td>\n",
       "    </tr>\n",
       "    <tr>\n",
       "      <th>2</th>\n",
       "      <td>20245</td>\n",
       "      <td>31337</td>\n",
       "      <td>6HvtV2vTqUfNBJ53C4TzvJnb0s74KgcRNuUVS+8jRvU=</td>\n",
       "      <td>Female</td>\n",
       "      <td>48.0</td>\n",
       "      <td>IOS</td>\n",
       "      <td>Paid</td>\n",
       "      <td>2023-03-01</td>\n",
       "      <td>2023-04-10</td>\n",
       "      <td>13:10:00</td>\n",
       "      <td>2023-04-10</td>\n",
       "      <td>14:35:00</td>\n",
       "      <td>HUI - SGN</td>\n",
       "      <td>Thừa Thiên Huế - Hồ Chí Minh</td>\n",
       "      <td>Ry/OjEDP12vfMWbnat5Mudc3PE4qIK/wwfCkBE5zGlM=</td>\n",
       "      <td>J1_ECO</td>\n",
       "      <td>1423080</td>\n",
       "      <td>0</td>\n",
       "      <td>0.0</td>\n",
       "      <td>16000</td>\n",
       "    </tr>\n",
       "    <tr>\n",
       "      <th>3</th>\n",
       "      <td>20259</td>\n",
       "      <td>31360</td>\n",
       "      <td>WiK2P31WEd4mckRNVWz0C2aKKRgSrauAG8NdfTLnKjE=</td>\n",
       "      <td>Male</td>\n",
       "      <td>29.0</td>\n",
       "      <td>Android</td>\n",
       "      <td>New</td>\n",
       "      <td>2023-03-01</td>\n",
       "      <td>2023-04-10</td>\n",
       "      <td>13:10:00</td>\n",
       "      <td>2023-04-10</td>\n",
       "      <td>14:35:00</td>\n",
       "      <td>HUI - SGN</td>\n",
       "      <td>Thừa Thiên Huế - Hồ Chí Minh</td>\n",
       "      <td>Ry/OjEDP12vfMWbnat5Mudc3PE4qIK/wwfCkBE5zGlM=</td>\n",
       "      <td>J1_ECO</td>\n",
       "      <td>1067310</td>\n",
       "      <td>0</td>\n",
       "      <td>0.0</td>\n",
       "      <td>45000</td>\n",
       "    </tr>\n",
       "    <tr>\n",
       "      <th>4</th>\n",
       "      <td>20255</td>\n",
       "      <td>31355</td>\n",
       "      <td>6HvtV2vTqUfNBJ53C4TzvJnb0s74KgcRNuUVS+8jRvU=</td>\n",
       "      <td>Female</td>\n",
       "      <td>42.0</td>\n",
       "      <td>IOS</td>\n",
       "      <td>Paid</td>\n",
       "      <td>2023-03-01</td>\n",
       "      <td>2023-04-10</td>\n",
       "      <td>13:10:00</td>\n",
       "      <td>2023-04-10</td>\n",
       "      <td>14:35:00</td>\n",
       "      <td>HUI - SGN</td>\n",
       "      <td>Thừa Thiên Huế - Hồ Chí Minh</td>\n",
       "      <td>Ry/OjEDP12vfMWbnat5Mudc3PE4qIK/wwfCkBE5zGlM=</td>\n",
       "      <td>J1_ECO</td>\n",
       "      <td>1067310</td>\n",
       "      <td>0</td>\n",
       "      <td>0.0</td>\n",
       "      <td>24000</td>\n",
       "    </tr>\n",
       "  </tbody>\n",
       "</table>\n",
       "</div>"
      ],
      "text/plain": [
       "   order_id  ticket_id                                  passenger_id  \\\n",
       "0     20205      31268  Xs1fLinPQun+Oy/mD0FlfXMyJD38YlXJfXNbz+qO+5U=   \n",
       "1     20190      31242  m/auVlEoaGSe2MqR/Lq4CFXJnI8zauNyF/KiFmMgXHs=   \n",
       "2     20245      31337  6HvtV2vTqUfNBJ53C4TzvJnb0s74KgcRNuUVS+8jRvU=   \n",
       "3     20259      31360  WiK2P31WEd4mckRNVWz0C2aKKRgSrauAG8NdfTLnKjE=   \n",
       "4     20255      31355  6HvtV2vTqUfNBJ53C4TzvJnb0s74KgcRNuUVS+8jRvU=   \n",
       "\n",
       "  passenger_gender  passenger_age ticket_source_name ticket_status  \\\n",
       "0           Female           40.0                IOS          Paid   \n",
       "1           Female           40.0                GYL          Paid   \n",
       "2           Female           48.0                IOS          Paid   \n",
       "3             Male           29.0            Android           New   \n",
       "4           Female           42.0                IOS          Paid   \n",
       "\n",
       "  created_date departure_date departure_time arrival_date arrival_time  \\\n",
       "0   2023-03-01     2023-03-14       17:55:00   2023-03-14     18:55:00   \n",
       "1   2023-03-01     2023-03-02       09:30:00   2023-03-02     10:30:00   \n",
       "2   2023-03-01     2023-04-10       13:10:00   2023-04-10     14:35:00   \n",
       "3   2023-03-01     2023-04-10       13:10:00   2023-04-10     14:35:00   \n",
       "4   2023-03-01     2023-04-10       13:10:00   2023-04-10     14:35:00   \n",
       "\n",
       "  from_to_location                       from_to  \\\n",
       "0        BMV - SGN         Đắk Lắk - Hồ Chí Minh   \n",
       "1        BMV - SGN         Đắk Lắk - Hồ Chí Minh   \n",
       "2        HUI - SGN  Thừa Thiên Huế - Hồ Chí Minh   \n",
       "3        HUI - SGN  Thừa Thiên Huế - Hồ Chí Minh   \n",
       "4        HUI - SGN  Thừa Thiên Huế - Hồ Chí Minh   \n",
       "\n",
       "                                        airline seat_class  ticket_price  \\\n",
       "0  Ry/OjEDP12vfMWbnat5Mudc3PE4qIK/wwfCkBE5zGlM=     I1_ECO        867760   \n",
       "1  Ry/OjEDP12vfMWbnat5Mudc3PE4qIK/wwfCkBE5zGlM=     Z1_ECO        974280   \n",
       "2  Ry/OjEDP12vfMWbnat5Mudc3PE4qIK/wwfCkBE5zGlM=     J1_ECO       1423080   \n",
       "3  Ry/OjEDP12vfMWbnat5Mudc3PE4qIK/wwfCkBE5zGlM=     J1_ECO       1067310   \n",
       "4  Ry/OjEDP12vfMWbnat5Mudc3PE4qIK/wwfCkBE5zGlM=     J1_ECO       1067310   \n",
       "\n",
       "   baggage  insurance_fee  discount_amount  \n",
       "0        0            0.0            45000  \n",
       "1        0            0.0            45000  \n",
       "2        0            0.0            16000  \n",
       "3        0            0.0            45000  \n",
       "4        0            0.0            24000  "
      ]
     },
     "execution_count": 3,
     "metadata": {},
     "output_type": "execute_result"
    }
   ],
   "source": [
    "import pandas as pd\n",
    "\n",
    "# Đường dẫn đến file Excel\n",
    "file_path = r\"E:\\SkyRevenue Insights\\0. Data\\df.xlsx\"\n",
    "\n",
    "# Kiểm tra file có tồn tại không\n",
    "import os\n",
    "if os.path.exists(file_path):\n",
    "    print(\"File tồn tại!\")\n",
    "else:\n",
    "    print(\"File không tồn tại, kiểm tra lại đường dẫn!\")\n",
    "    raise FileNotFoundError(\"File không tồn tại!\")\n",
    "\n",
    "# Đọc sheet \"Data\"\n",
    "df_org = pd.read_excel(file_path, sheet_name=\"Data\")\n",
    "df = df_org.copy()\n",
    "# Hiển thị vài dòng đầu của DataFrame để kiểm tra\n",
    "df.head()"
   ]
  },
  {
   "cell_type": "markdown",
   "id": "32d008a4",
   "metadata": {},
   "source": [
    "# II. Data Preprocessing"
   ]
  },
  {
   "cell_type": "markdown",
   "id": "0788fb38",
   "metadata": {},
   "source": [
    "## 2.1 Quick Check"
   ]
  },
  {
   "cell_type": "code",
   "execution_count": 4,
   "id": "e1560ec8",
   "metadata": {},
   "outputs": [
    {
     "data": {
      "text/html": [
       "\n",
       "            <div>\n",
       "                <ins><a href=\"https://ydata.ai/register\">Upgrade to ydata-sdk</a></ins>\n",
       "                <p>\n",
       "                    Improve your data and profiling with ydata-sdk, featuring data quality scoring, redundancy detection, outlier identification, text validation, and synthetic data generation.\n",
       "                </p>\n",
       "            </div>\n",
       "            "
      ],
      "text/plain": [
       "<IPython.core.display.HTML object>"
      ]
     },
     "metadata": {},
     "output_type": "display_data"
    },
    {
     "data": {
      "application/vnd.jupyter.widget-view+json": {
       "model_id": "0df11a4f54274c4db724045c0f45082d",
       "version_major": 2,
       "version_minor": 0
      },
      "text/plain": [
       "Summarize dataset:   0%|          | 0/5 [00:00<?, ?it/s]"
      ]
     },
     "metadata": {},
     "output_type": "display_data"
    },
    {
     "name": "stderr",
     "output_type": "stream",
     "text": [
      "100%|██████████| 20/20 [00:00<00:00, 58.76it/s]\n"
     ]
    },
    {
     "data": {
      "application/vnd.jupyter.widget-view+json": {
       "model_id": "b76026ffea034602a5d5c925fb86b2bd",
       "version_major": 2,
       "version_minor": 0
      },
      "text/plain": [
       "Generate report structure:   0%|          | 0/1 [00:00<?, ?it/s]"
      ]
     },
     "metadata": {},
     "output_type": "display_data"
    },
    {
     "data": {
      "application/vnd.jupyter.widget-view+json": {
       "model_id": "462c2d618e7e4799986d6e5a4c28cef8",
       "version_major": 2,
       "version_minor": 0
      },
      "text/plain": [
       "Render HTML:   0%|          | 0/1 [00:00<?, ?it/s]"
      ]
     },
     "metadata": {},
     "output_type": "display_data"
    },
    {
     "data": {
      "application/vnd.jupyter.widget-view+json": {
       "model_id": "dad413cd31004c228beb077ec0043a88",
       "version_major": 2,
       "version_minor": 0
      },
      "text/plain": [
       "Export report to file:   0%|          | 0/1 [00:00<?, ?it/s]"
      ]
     },
     "metadata": {},
     "output_type": "display_data"
    },
    {
     "data": {
      "text/plain": [
       "{'file_name': 'df',\n",
       " 'shape': (19096, 20),\n",
       " 'columns': ['order_id',\n",
       "  'ticket_id',\n",
       "  'passenger_id',\n",
       "  'passenger_gender',\n",
       "  'passenger_age',\n",
       "  'ticket_source_name',\n",
       "  'ticket_status',\n",
       "  'created_date',\n",
       "  'departure_date',\n",
       "  'departure_time',\n",
       "  'arrival_date',\n",
       "  'arrival_time',\n",
       "  'from_to_location',\n",
       "  'from_to',\n",
       "  'airline',\n",
       "  'seat_class',\n",
       "  'ticket_price',\n",
       "  'baggage',\n",
       "  'insurance_fee',\n",
       "  'discount_amount'],\n",
       " 'dtypes': {'order_id': dtype('int64'),\n",
       "  'ticket_id': dtype('int64'),\n",
       "  'passenger_id': dtype('O'),\n",
       "  'passenger_gender': dtype('O'),\n",
       "  'passenger_age': dtype('float64'),\n",
       "  'ticket_source_name': dtype('O'),\n",
       "  'ticket_status': dtype('O'),\n",
       "  'created_date': dtype('<M8[ns]'),\n",
       "  'departure_date': dtype('<M8[ns]'),\n",
       "  'departure_time': dtype('O'),\n",
       "  'arrival_date': dtype('<M8[ns]'),\n",
       "  'arrival_time': dtype('O'),\n",
       "  'from_to_location': dtype('O'),\n",
       "  'from_to': dtype('O'),\n",
       "  'airline': dtype('O'),\n",
       "  'seat_class': dtype('O'),\n",
       "  'ticket_price': dtype('int64'),\n",
       "  'baggage': dtype('int64'),\n",
       "  'insurance_fee': dtype('float64'),\n",
       "  'discount_amount': dtype('int64')}}"
      ]
     },
     "execution_count": 4,
     "metadata": {},
     "output_type": "execute_result"
    }
   ],
   "source": [
    "csv_path = r\"E:\\SkyRevenue Insights\\0. Data\\df.xlsx\"\n",
    "\n",
    "quick_check = utils.quick_overview_data(df, csv_path, open_browser=True)\n",
    "quick_check"
   ]
  },
  {
   "cell_type": "markdown",
   "id": "7b17063f",
   "metadata": {},
   "source": [
    "## 2.2 Duplicated Check"
   ]
  },
  {
   "cell_type": "code",
   "execution_count": 5,
   "id": "91175fab",
   "metadata": {},
   "outputs": [
    {
     "name": "stdout",
     "output_type": "stream",
     "text": [
      "🔍 Duplicate Rows based on data: 0 duplicates found.\n",
      "No duplicates found. Data is clean.\n"
     ]
    }
   ],
   "source": [
    "columns_to_check = df.columns.tolist()\n",
    "\n",
    "df_cus_ls = utils.check_duplicates(df, columns_to_check)"
   ]
  },
  {
   "cell_type": "markdown",
   "id": "b1f41340",
   "metadata": {},
   "source": [
    "## 2.3 Null Check"
   ]
  },
  {
   "cell_type": "code",
   "execution_count": 6,
   "id": "917974da",
   "metadata": {},
   "outputs": [
    {
     "name": "stdout",
     "output_type": "stream",
     "text": [
      "🔍 Null Count per Column:\n",
      " - order_id: 0 nulls\n",
      " - ticket_id: 0 nulls\n",
      " - passenger_id: 0 nulls\n",
      " - passenger_gender: 13 nulls\n",
      " - passenger_age: 5 nulls\n",
      " - ticket_source_name: 0 nulls\n",
      " - ticket_status: 0 nulls\n",
      " - created_date: 0 nulls\n",
      " - departure_date: 0 nulls\n",
      " - departure_time: 0 nulls\n",
      " - arrival_date: 0 nulls\n",
      " - arrival_time: 0 nulls\n",
      " - from_to_location: 0 nulls\n",
      " - from_to: 0 nulls\n",
      " - airline: 0 nulls\n",
      " - seat_class: 120 nulls\n",
      " - ticket_price: 0 nulls\n",
      " - baggage: 0 nulls\n",
      " - insurance_fee: 0 nulls\n",
      " - discount_amount: 0 nulls\n",
      "\n",
      "📊 Checking if nulls occur in the same rows:\n",
      "[X] Nulls do NOT overlap exactly in all columns.\n",
      "\n",
      " Rows with partial nulls (mismatch):\n"
     ]
    },
    {
     "data": {
      "application/vnd.microsoft.datawrangler.viewer.v0+json": {
       "columns": [
        {
         "name": "index",
         "rawType": "int64",
         "type": "integer"
        },
        {
         "name": "order_id",
         "rawType": "int64",
         "type": "integer"
        },
        {
         "name": "ticket_id",
         "rawType": "int64",
         "type": "integer"
        },
        {
         "name": "passenger_id",
         "rawType": "object",
         "type": "string"
        },
        {
         "name": "passenger_gender",
         "rawType": "object",
         "type": "string"
        },
        {
         "name": "passenger_age",
         "rawType": "float64",
         "type": "float"
        },
        {
         "name": "ticket_source_name",
         "rawType": "object",
         "type": "string"
        },
        {
         "name": "ticket_status",
         "rawType": "object",
         "type": "string"
        },
        {
         "name": "created_date",
         "rawType": "datetime64[ns]",
         "type": "datetime"
        },
        {
         "name": "departure_date",
         "rawType": "datetime64[ns]",
         "type": "datetime"
        },
        {
         "name": "departure_time",
         "rawType": "object",
         "type": "unknown"
        },
        {
         "name": "arrival_date",
         "rawType": "datetime64[ns]",
         "type": "datetime"
        },
        {
         "name": "arrival_time",
         "rawType": "object",
         "type": "unknown"
        },
        {
         "name": "from_to_location",
         "rawType": "object",
         "type": "string"
        },
        {
         "name": "from_to",
         "rawType": "object",
         "type": "string"
        },
        {
         "name": "airline",
         "rawType": "object",
         "type": "string"
        },
        {
         "name": "seat_class",
         "rawType": "object",
         "type": "unknown"
        },
        {
         "name": "ticket_price",
         "rawType": "int64",
         "type": "integer"
        },
        {
         "name": "baggage",
         "rawType": "int64",
         "type": "integer"
        },
        {
         "name": "insurance_fee",
         "rawType": "float64",
         "type": "float"
        },
        {
         "name": "discount_amount",
         "rawType": "int64",
         "type": "integer"
        }
       ],
       "conversionMethod": "pd.DataFrame",
       "ref": "d49b3d0a-c4df-4601-8222-8603d1eaf7cd",
       "rows": [
        [
         "838",
         "20740",
         "32117",
         "TZVvTNMPPWz1Jy/yNW0TR6tS4oYf/XPSO5XfKmIDHCg=",
         "Female",
         "23.0",
         "IOS",
         "New",
         "2023-03-06 00:00:00",
         "2023-03-16 00:00:00",
         "13:25:00",
         "2023-03-16 00:00:00",
         "14:35:00",
         "SGN - UIH",
         "Hồ Chí Minh - Bình Định",
         "73SByZiBulQv8bk/PGRtuNIpW3R+36DZ9nM31hDpDMQ=",
         null,
         "630720",
         "199650",
         "0.0",
         "45000"
        ],
        [
         "3484",
         "22575",
         "35105",
         "UOwHd9qo/sn9GWfARIFQIvRnGXN3yoZrzvH73IRLTp8=",
         "Male",
         "30.0",
         "IOS",
         "Paid",
         "2023-03-21 00:00:00",
         "2023-04-29 00:00:00",
         "11:40:00",
         "2023-04-29 00:00:00",
         "12:50:00",
         "CXR - SGN",
         "Khánh Hòa - Hồ Chí Minh",
         "73SByZiBulQv8bk/PGRtuNIpW3R+36DZ9nM31hDpDMQ=",
         null,
         "656800",
         "0",
         "0.0",
         "40000"
        ],
        [
         "3485",
         "22575",
         "35106",
         "UOwHd9qo/sn9GWfARIFQIvRnGXN3yoZrzvH73IRLTp8=",
         "Male",
         "29.0",
         "IOS",
         "Paid",
         "2023-03-21 00:00:00",
         "2023-04-29 00:00:00",
         "11:40:00",
         "2023-04-29 00:00:00",
         "12:50:00",
         "CXR - SGN",
         "Khánh Hòa - Hồ Chí Minh",
         "73SByZiBulQv8bk/PGRtuNIpW3R+36DZ9nM31hDpDMQ=",
         null,
         "788160",
         "0",
         "0.0",
         "45000"
        ],
        [
         "3486",
         "22573",
         "35101",
         "UOwHd9qo/sn9GWfARIFQIvRnGXN3yoZrzvH73IRLTp8=",
         "Male",
         "30.0",
         "IOS",
         "New",
         "2023-03-21 00:00:00",
         "2023-04-29 00:00:00",
         "11:40:00",
         "2023-04-29 00:00:00",
         "12:50:00",
         "CXR - SGN",
         "Khánh Hòa - Hồ Chí Minh",
         "73SByZiBulQv8bk/PGRtuNIpW3R+36DZ9nM31hDpDMQ=",
         null,
         "788160",
         "0",
         "0.0",
         "40000"
        ],
        [
         "3487",
         "22573",
         "35102",
         "UOwHd9qo/sn9GWfARIFQIvRnGXN3yoZrzvH73IRLTp8=",
         "Male",
         "29.0",
         "IOS",
         "New",
         "2023-03-21 00:00:00",
         "2023-04-29 00:00:00",
         "11:40:00",
         "2023-04-29 00:00:00",
         "12:50:00",
         "CXR - SGN",
         "Khánh Hòa - Hồ Chí Minh",
         "73SByZiBulQv8bk/PGRtuNIpW3R+36DZ9nM31hDpDMQ=",
         null,
         "525440",
         "0",
         "0.0",
         "55000"
        ]
       ],
       "shape": {
        "columns": 20,
        "rows": 5
       }
      },
      "text/html": [
       "<div>\n",
       "<style scoped>\n",
       "    .dataframe tbody tr th:only-of-type {\n",
       "        vertical-align: middle;\n",
       "    }\n",
       "\n",
       "    .dataframe tbody tr th {\n",
       "        vertical-align: top;\n",
       "    }\n",
       "\n",
       "    .dataframe thead th {\n",
       "        text-align: right;\n",
       "    }\n",
       "</style>\n",
       "<table border=\"1\" class=\"dataframe\">\n",
       "  <thead>\n",
       "    <tr style=\"text-align: right;\">\n",
       "      <th></th>\n",
       "      <th>order_id</th>\n",
       "      <th>ticket_id</th>\n",
       "      <th>passenger_id</th>\n",
       "      <th>passenger_gender</th>\n",
       "      <th>passenger_age</th>\n",
       "      <th>ticket_source_name</th>\n",
       "      <th>ticket_status</th>\n",
       "      <th>created_date</th>\n",
       "      <th>departure_date</th>\n",
       "      <th>departure_time</th>\n",
       "      <th>arrival_date</th>\n",
       "      <th>arrival_time</th>\n",
       "      <th>from_to_location</th>\n",
       "      <th>from_to</th>\n",
       "      <th>airline</th>\n",
       "      <th>seat_class</th>\n",
       "      <th>ticket_price</th>\n",
       "      <th>baggage</th>\n",
       "      <th>insurance_fee</th>\n",
       "      <th>discount_amount</th>\n",
       "    </tr>\n",
       "  </thead>\n",
       "  <tbody>\n",
       "    <tr>\n",
       "      <th>838</th>\n",
       "      <td>20740</td>\n",
       "      <td>32117</td>\n",
       "      <td>TZVvTNMPPWz1Jy/yNW0TR6tS4oYf/XPSO5XfKmIDHCg=</td>\n",
       "      <td>Female</td>\n",
       "      <td>23.0</td>\n",
       "      <td>IOS</td>\n",
       "      <td>New</td>\n",
       "      <td>2023-03-06</td>\n",
       "      <td>2023-03-16</td>\n",
       "      <td>13:25:00</td>\n",
       "      <td>2023-03-16</td>\n",
       "      <td>14:35:00</td>\n",
       "      <td>SGN - UIH</td>\n",
       "      <td>Hồ Chí Minh - Bình Định</td>\n",
       "      <td>73SByZiBulQv8bk/PGRtuNIpW3R+36DZ9nM31hDpDMQ=</td>\n",
       "      <td>NaN</td>\n",
       "      <td>630720</td>\n",
       "      <td>199650</td>\n",
       "      <td>0.0</td>\n",
       "      <td>45000</td>\n",
       "    </tr>\n",
       "    <tr>\n",
       "      <th>3484</th>\n",
       "      <td>22575</td>\n",
       "      <td>35105</td>\n",
       "      <td>UOwHd9qo/sn9GWfARIFQIvRnGXN3yoZrzvH73IRLTp8=</td>\n",
       "      <td>Male</td>\n",
       "      <td>30.0</td>\n",
       "      <td>IOS</td>\n",
       "      <td>Paid</td>\n",
       "      <td>2023-03-21</td>\n",
       "      <td>2023-04-29</td>\n",
       "      <td>11:40:00</td>\n",
       "      <td>2023-04-29</td>\n",
       "      <td>12:50:00</td>\n",
       "      <td>CXR - SGN</td>\n",
       "      <td>Khánh Hòa - Hồ Chí Minh</td>\n",
       "      <td>73SByZiBulQv8bk/PGRtuNIpW3R+36DZ9nM31hDpDMQ=</td>\n",
       "      <td>NaN</td>\n",
       "      <td>656800</td>\n",
       "      <td>0</td>\n",
       "      <td>0.0</td>\n",
       "      <td>40000</td>\n",
       "    </tr>\n",
       "    <tr>\n",
       "      <th>3485</th>\n",
       "      <td>22575</td>\n",
       "      <td>35106</td>\n",
       "      <td>UOwHd9qo/sn9GWfARIFQIvRnGXN3yoZrzvH73IRLTp8=</td>\n",
       "      <td>Male</td>\n",
       "      <td>29.0</td>\n",
       "      <td>IOS</td>\n",
       "      <td>Paid</td>\n",
       "      <td>2023-03-21</td>\n",
       "      <td>2023-04-29</td>\n",
       "      <td>11:40:00</td>\n",
       "      <td>2023-04-29</td>\n",
       "      <td>12:50:00</td>\n",
       "      <td>CXR - SGN</td>\n",
       "      <td>Khánh Hòa - Hồ Chí Minh</td>\n",
       "      <td>73SByZiBulQv8bk/PGRtuNIpW3R+36DZ9nM31hDpDMQ=</td>\n",
       "      <td>NaN</td>\n",
       "      <td>788160</td>\n",
       "      <td>0</td>\n",
       "      <td>0.0</td>\n",
       "      <td>45000</td>\n",
       "    </tr>\n",
       "    <tr>\n",
       "      <th>3486</th>\n",
       "      <td>22573</td>\n",
       "      <td>35101</td>\n",
       "      <td>UOwHd9qo/sn9GWfARIFQIvRnGXN3yoZrzvH73IRLTp8=</td>\n",
       "      <td>Male</td>\n",
       "      <td>30.0</td>\n",
       "      <td>IOS</td>\n",
       "      <td>New</td>\n",
       "      <td>2023-03-21</td>\n",
       "      <td>2023-04-29</td>\n",
       "      <td>11:40:00</td>\n",
       "      <td>2023-04-29</td>\n",
       "      <td>12:50:00</td>\n",
       "      <td>CXR - SGN</td>\n",
       "      <td>Khánh Hòa - Hồ Chí Minh</td>\n",
       "      <td>73SByZiBulQv8bk/PGRtuNIpW3R+36DZ9nM31hDpDMQ=</td>\n",
       "      <td>NaN</td>\n",
       "      <td>788160</td>\n",
       "      <td>0</td>\n",
       "      <td>0.0</td>\n",
       "      <td>40000</td>\n",
       "    </tr>\n",
       "    <tr>\n",
       "      <th>3487</th>\n",
       "      <td>22573</td>\n",
       "      <td>35102</td>\n",
       "      <td>UOwHd9qo/sn9GWfARIFQIvRnGXN3yoZrzvH73IRLTp8=</td>\n",
       "      <td>Male</td>\n",
       "      <td>29.0</td>\n",
       "      <td>IOS</td>\n",
       "      <td>New</td>\n",
       "      <td>2023-03-21</td>\n",
       "      <td>2023-04-29</td>\n",
       "      <td>11:40:00</td>\n",
       "      <td>2023-04-29</td>\n",
       "      <td>12:50:00</td>\n",
       "      <td>CXR - SGN</td>\n",
       "      <td>Khánh Hòa - Hồ Chí Minh</td>\n",
       "      <td>73SByZiBulQv8bk/PGRtuNIpW3R+36DZ9nM31hDpDMQ=</td>\n",
       "      <td>NaN</td>\n",
       "      <td>525440</td>\n",
       "      <td>0</td>\n",
       "      <td>0.0</td>\n",
       "      <td>55000</td>\n",
       "    </tr>\n",
       "  </tbody>\n",
       "</table>\n",
       "</div>"
      ],
      "text/plain": [
       "      order_id  ticket_id                                  passenger_id  \\\n",
       "838      20740      32117  TZVvTNMPPWz1Jy/yNW0TR6tS4oYf/XPSO5XfKmIDHCg=   \n",
       "3484     22575      35105  UOwHd9qo/sn9GWfARIFQIvRnGXN3yoZrzvH73IRLTp8=   \n",
       "3485     22575      35106  UOwHd9qo/sn9GWfARIFQIvRnGXN3yoZrzvH73IRLTp8=   \n",
       "3486     22573      35101  UOwHd9qo/sn9GWfARIFQIvRnGXN3yoZrzvH73IRLTp8=   \n",
       "3487     22573      35102  UOwHd9qo/sn9GWfARIFQIvRnGXN3yoZrzvH73IRLTp8=   \n",
       "\n",
       "     passenger_gender  passenger_age ticket_source_name ticket_status  \\\n",
       "838            Female           23.0                IOS           New   \n",
       "3484             Male           30.0                IOS          Paid   \n",
       "3485             Male           29.0                IOS          Paid   \n",
       "3486             Male           30.0                IOS           New   \n",
       "3487             Male           29.0                IOS           New   \n",
       "\n",
       "     created_date departure_date departure_time arrival_date arrival_time  \\\n",
       "838    2023-03-06     2023-03-16       13:25:00   2023-03-16     14:35:00   \n",
       "3484   2023-03-21     2023-04-29       11:40:00   2023-04-29     12:50:00   \n",
       "3485   2023-03-21     2023-04-29       11:40:00   2023-04-29     12:50:00   \n",
       "3486   2023-03-21     2023-04-29       11:40:00   2023-04-29     12:50:00   \n",
       "3487   2023-03-21     2023-04-29       11:40:00   2023-04-29     12:50:00   \n",
       "\n",
       "     from_to_location                  from_to  \\\n",
       "838         SGN - UIH  Hồ Chí Minh - Bình Định   \n",
       "3484        CXR - SGN  Khánh Hòa - Hồ Chí Minh   \n",
       "3485        CXR - SGN  Khánh Hòa - Hồ Chí Minh   \n",
       "3486        CXR - SGN  Khánh Hòa - Hồ Chí Minh   \n",
       "3487        CXR - SGN  Khánh Hòa - Hồ Chí Minh   \n",
       "\n",
       "                                           airline seat_class  ticket_price  \\\n",
       "838   73SByZiBulQv8bk/PGRtuNIpW3R+36DZ9nM31hDpDMQ=        NaN        630720   \n",
       "3484  73SByZiBulQv8bk/PGRtuNIpW3R+36DZ9nM31hDpDMQ=        NaN        656800   \n",
       "3485  73SByZiBulQv8bk/PGRtuNIpW3R+36DZ9nM31hDpDMQ=        NaN        788160   \n",
       "3486  73SByZiBulQv8bk/PGRtuNIpW3R+36DZ9nM31hDpDMQ=        NaN        788160   \n",
       "3487  73SByZiBulQv8bk/PGRtuNIpW3R+36DZ9nM31hDpDMQ=        NaN        525440   \n",
       "\n",
       "      baggage  insurance_fee  discount_amount  \n",
       "838    199650            0.0            45000  \n",
       "3484        0            0.0            40000  \n",
       "3485        0            0.0            45000  \n",
       "3486        0            0.0            40000  \n",
       "3487        0            0.0            55000  "
      ]
     },
     "metadata": {},
     "output_type": "display_data"
    }
   ],
   "source": [
    "columns_to_check = df.columns.tolist()\n",
    "\n",
    "check_null_overlap = utils.check_null_overlap(df, columns_to_check)\n",
    "check_null_overlap"
   ]
  },
  {
   "cell_type": "code",
   "execution_count": 7,
   "id": "e7bdc579",
   "metadata": {},
   "outputs": [],
   "source": [
    "# Hàm tính tỷ lệ phần trăm\n",
    "def calculate_percentage(part, whole):\n",
    "    return (part / whole) * 100 if whole > 0 else 0"
   ]
  },
  {
   "cell_type": "code",
   "execution_count": 8,
   "id": "447c1e00",
   "metadata": {},
   "outputs": [
    {
     "name": "stdout",
     "output_type": "stream",
     "text": [
      "\n",
      "=== Xử lý cột passenger_gender ===\n",
      "Tổng số giá trị null trong passenger_gender: 13\n",
      "Tổng số hàng trong dữ liệu: 19096\n",
      "Số lượng null đã điền bằng passenger_id: 11\n",
      "Số lượng null đã loại bỏ: 2/13\n",
      "Tỷ lệ null đã loại bỏ trên toàn bộ dữ liệu: 0.01%\n"
     ]
    }
   ],
   "source": [
    "# --- 1: Xử lý cột passenger_gender ---\n",
    "print(\"\\n=== Xử lý cột passenger_gender ===\")\n",
    "\n",
    "# Đếm tổng số null ban đầu trong cột passenger_gender\n",
    "total_gender_nulls = df['passenger_gender'].isnull().sum()\n",
    "total_rows = len(df)\n",
    "\n",
    "# In số lượng null ban đầu\n",
    "print(f\"Tổng số giá trị null trong passenger_gender: {total_gender_nulls}\")\n",
    "print(f\"Tổng số hàng trong dữ liệu: {total_rows}\")\n",
    "\n",
    "# Bước 1: Điền giá trị null dựa trên passenger_id\n",
    "# Tạo dictionary ánh xạ passenger_id với passenger_gender\n",
    "gender_mapping = df.dropna(subset=['passenger_gender']).set_index('passenger_id')['passenger_gender'].to_dict()\n",
    "\n",
    "# Điền giá trị null dựa trên passenger_id\n",
    "df['passenger_gender'] = df.apply(\n",
    "    lambda row: gender_mapping.get(row['passenger_id'], row['passenger_gender']) if pd.isnull(row['passenger_gender']) else row['passenger_gender'],\n",
    "    axis=1\n",
    ")\n",
    "\n",
    "# Đếm số lượng null đã điền bằng passenger_id\n",
    "nulls_filled_by_id_gender = total_gender_nulls - df['passenger_gender'].isnull().sum()\n",
    "\n",
    "# Đếm số lượng null còn lại sau khi điền\n",
    "remaining_gender_nulls = df['passenger_gender'].isnull().sum()\n",
    "\n",
    "# Bước 2: Loại bỏ các hàng có giá trị null còn lại trong passenger_gender\n",
    "rows_before_drop = len(df)\n",
    "df = df.dropna(subset=['passenger_gender'])\n",
    "rows_after_drop = len(df)\n",
    "\n",
    "# Số lượng null đã loại bỏ\n",
    "nulls_dropped_gender = rows_before_drop - rows_after_drop\n",
    "\n",
    "# In kết quả\n",
    "print(f\"Số lượng null đã điền bằng passenger_id: {nulls_filled_by_id_gender}\")\n",
    "print(f\"Số lượng null đã loại bỏ: {nulls_dropped_gender}/{total_gender_nulls}\")\n",
    "print(f\"Tỷ lệ null đã loại bỏ trên toàn bộ dữ liệu: {calculate_percentage(nulls_dropped_gender, total_rows):.2f}%\")"
   ]
  },
  {
   "cell_type": "code",
   "execution_count": 9,
   "id": "c7c54de9",
   "metadata": {},
   "outputs": [
    {
     "name": "stdout",
     "output_type": "stream",
     "text": [
      "\n",
      "=== Xử lý cột passenger_age ===\n",
      "Tổng số giá trị null trong passenger_age: 5\n",
      "Tổng số hàng trong dữ liệu (sau khi xử lý passenger_gender): 19094\n",
      "Số lượng null đã điền bằng passenger_id: 5/5\n",
      "Tỷ lệ null đã điền trên toàn bộ dữ liệu: 0.03%\n",
      "Số lượng null đã loại bỏ: 0/5\n",
      "Tỷ lệ null đã loại bỏ trên toàn bộ dữ liệu: 0.00%\n"
     ]
    },
    {
     "name": "stderr",
     "output_type": "stream",
     "text": [
      "C:\\Users\\ADMIN\\AppData\\Local\\Temp\\ipykernel_17348\\1955720470.py:17: SettingWithCopyWarning: \n",
      "A value is trying to be set on a copy of a slice from a DataFrame.\n",
      "Try using .loc[row_indexer,col_indexer] = value instead\n",
      "\n",
      "See the caveats in the documentation: https://pandas.pydata.org/pandas-docs/stable/user_guide/indexing.html#returning-a-view-versus-a-copy\n",
      "  df['passenger_age'] = df.apply(\n"
     ]
    }
   ],
   "source": [
    "# --- 2: Xử lý cột passenger_age ---\n",
    "print(\"\\n=== Xử lý cột passenger_age ===\")\n",
    "\n",
    "# Đếm tổng số null ban đầu trong cột passenger_age\n",
    "total_age_nulls = df['passenger_age'].isnull().sum()\n",
    "total_rows_after_gender = len(df)\n",
    "\n",
    "# In số lượng null ban đầu\n",
    "print(f\"Tổng số giá trị null trong passenger_age: {total_age_nulls}\")\n",
    "print(f\"Tổng số hàng trong dữ liệu (sau khi xử lý passenger_gender): {total_rows_after_gender}\")\n",
    "\n",
    "# Bước 1: Điền giá trị null dựa trên passenger_id\n",
    "# Tạo dictionary ánh xạ passenger_id với passenger_age\n",
    "age_mapping = df.dropna(subset=['passenger_age']).set_index('passenger_id')['passenger_age'].to_dict()\n",
    "\n",
    "# Điền giá trị null dựa trên passenger_id\n",
    "df['passenger_age'] = df.apply(\n",
    "    lambda row: age_mapping.get(row['passenger_id'], row['passenger_age']) if pd.isnull(row['passenger_age']) else row['passenger_age'],\n",
    "    axis=1\n",
    ")\n",
    "\n",
    "# Đếm số lượng null đã điền bằng passenger_id\n",
    "nulls_filled_by_id_age = total_age_nulls - df['passenger_age'].isnull().sum()\n",
    "\n",
    "# Bước 2: Loại bỏ các giá trị null còn lại\n",
    "rows_before_drop_age = len(df)\n",
    "df = df.dropna(subset=['passenger_age'])\n",
    "rows_after_drop_age = len(df)\n",
    "\n",
    "# Số lượng null đã loại bỏ\n",
    "nulls_dropped_age = rows_before_drop_age - rows_after_drop_age\n",
    "\n",
    "# In kết quả\n",
    "print(f\"Số lượng null đã điền bằng passenger_id: {nulls_filled_by_id_age}/{total_age_nulls}\")\n",
    "print(f\"Tỷ lệ null đã điền trên toàn bộ dữ liệu: {calculate_percentage(nulls_filled_by_id_age, total_rows):.2f}%\")\n",
    "print(f\"Số lượng null đã loại bỏ: {nulls_dropped_age}/{total_age_nulls}\")\n",
    "print(f\"Tỷ lệ null đã loại bỏ trên toàn bộ dữ liệu: {calculate_percentage(nulls_dropped_age, total_rows):.2f}%\")"
   ]
  },
  {
   "cell_type": "code",
   "execution_count": 10,
   "id": "44fc663d",
   "metadata": {},
   "outputs": [
    {
     "name": "stdout",
     "output_type": "stream",
     "text": [
      "\n",
      "=== Xử lý giá trị bất thường trong passenger_age (-1, 0, 115, 999999) ===\n",
      "Số lượng giá trị bất thường (-1, 0, 115, 999999): 29\n",
      "Tỷ lệ giá trị bất thường trên toàn bộ dữ liệu: 0.15%\n",
      "Số lượng giá trị bất thường đã điền bằng passenger_id: 29/29\n",
      "Tỷ lệ giá trị bất thường đã điền trên toàn bộ dữ liệu: 0.15%\n",
      "Số lượng giá trị bất thường đã loại bỏ: 0/29\n",
      "Tỷ lệ giá trị bất thường đã loại bỏ trên toàn bộ dữ liệu: 0.00%\n"
     ]
    }
   ],
   "source": [
    "# --- 3: Xử lý giá trị bất thường trong passenger_age (-1, 0, 115, 999999) ---\n",
    "print(\"\\n=== Xử lý giá trị bất thường trong passenger_age (-1, 0, 115, 999999) ===\")\n",
    "\n",
    "# Đếm số lượng các giá trị bất thường\n",
    "abnormal_values = [-1, 0, 115, 999999]\n",
    "abnormal_count = df['passenger_age'].isin(abnormal_values).sum()\n",
    "\n",
    "# Tính tỷ lệ phần trăm các giá trị bất thường trên toàn bộ dữ liệu\n",
    "abnormal_percentage = calculate_percentage(abnormal_count, total_rows)\n",
    "\n",
    "# In kết quả\n",
    "print(f\"Số lượng giá trị bất thường (-1, 0, 115, 999999): {abnormal_count}\")\n",
    "print(f\"Tỷ lệ giá trị bất thường trên toàn bộ dữ liệu: {abnormal_percentage:.2f}%\")\n",
    "\n",
    "# Bước 1: Điền giá trị bất thường dựa trên passenger_id\n",
    "# Tạo dictionary ánh xạ passenger_id với passenger_age (chỉ lấy các giá trị không bất thường)\n",
    "valid_age_mapping = df[~df['passenger_age'].isin(abnormal_values)].set_index('passenger_id')['passenger_age'].to_dict()\n",
    "\n",
    "# Điền giá trị bất thường dựa trên passenger_id\n",
    "df['passenger_age'] = df.apply(\n",
    "    lambda row: valid_age_mapping.get(row['passenger_id'], row['passenger_age']) if row['passenger_age'] in abnormal_values else row['passenger_age'],\n",
    "    axis=1\n",
    ")\n",
    "\n",
    "# Đếm số lượng giá trị bất thường đã điền\n",
    "abnormal_filled = abnormal_count - df['passenger_age'].isin(abnormal_values).sum()\n",
    "\n",
    "# Bước 2: Loại bỏ các giá trị bất thường còn lại\n",
    "rows_before_drop_abnormal = len(df)\n",
    "df = df[~df['passenger_age'].isin(abnormal_values)]\n",
    "rows_after_drop_abnormal = len(df)\n",
    "\n",
    "# Số lượng giá trị bất thường đã loại bỏ\n",
    "abnormal_dropped = rows_before_drop_abnormal - rows_after_drop_abnormal\n",
    "\n",
    "# In kết quả\n",
    "print(f\"Số lượng giá trị bất thường đã điền bằng passenger_id: {abnormal_filled}/{abnormal_count}\")\n",
    "print(f\"Tỷ lệ giá trị bất thường đã điền trên toàn bộ dữ liệu: {calculate_percentage(abnormal_filled, total_rows):.2f}%\")\n",
    "print(f\"Số lượng giá trị bất thường đã loại bỏ: {abnormal_dropped}/{abnormal_count}\")\n",
    "print(f\"Tỷ lệ giá trị bất thường đã loại bỏ trên toàn bộ dữ liệu: {calculate_percentage(abnormal_dropped, total_rows):.2f}%\")"
   ]
  },
  {
   "cell_type": "code",
   "execution_count": 11,
   "id": "983b7e20",
   "metadata": {},
   "outputs": [
    {
     "name": "stdout",
     "output_type": "stream",
     "text": [
      "\n",
      "=== Kiểm tra và xử lý giá trị null trong cột seat_class ===\n",
      "Tổng số giá trị null trong seat_class: 120\n",
      "Tổng số hàng trong dữ liệu: 19094\n",
      "Tỷ lệ giá trị null trong seat_class trên toàn bộ dữ liệu: 0.63%\n",
      "Số lượng hàng đã loại bỏ do seat_class null: 120\n",
      "Số lượng giá trị null còn lại trong seat_class sau khi xử lý: 0\n"
     ]
    }
   ],
   "source": [
    "# --- 4: Kiểm tra và xử lý giá trị null trong cột seat_class ---\n",
    "print(\"\\n=== Kiểm tra và xử lý giá trị null trong cột seat_class ===\")\n",
    "\n",
    "# Đếm tổng số giá trị null trong cột seat_class\n",
    "total_seat_class_nulls = df['seat_class'].isnull().sum()\n",
    "total_rows = len(df)\n",
    "\n",
    "# Tính tỷ lệ phần trăm giá trị null\n",
    "seat_class_null_percentage = calculate_percentage(total_seat_class_nulls, total_rows)\n",
    "\n",
    "# In kết quả\n",
    "print(f\"Tổng số giá trị null trong seat_class: {total_seat_class_nulls}\")\n",
    "print(f\"Tổng số hàng trong dữ liệu: {total_rows}\")\n",
    "print(f\"Tỷ lệ giá trị null trong seat_class trên toàn bộ dữ liệu: {seat_class_null_percentage:.2f}%\")\n",
    "\n",
    "# Phân tích chuyên sâu và xử lý\n",
    "# Bước 1: Loại bỏ các hàng có seat_class null\n",
    "rows_before_drop = len(df)\n",
    "df = df.dropna(subset=['seat_class'])\n",
    "rows_dropped = rows_before_drop - len(df)\n",
    "\n",
    "# In kết quả sau khi xử lý\n",
    "print(f\"Số lượng hàng đã loại bỏ do seat_class null: {rows_dropped}\")\n",
    "print(f\"Số lượng giá trị null còn lại trong seat_class sau khi xử lý: {df['seat_class'].isnull().sum()}\")"
   ]
  },
  {
   "cell_type": "code",
   "execution_count": 12,
   "id": "955fc471",
   "metadata": {},
   "outputs": [
    {
     "name": "stdout",
     "output_type": "stream",
     "text": [
      "\n",
      "=== Phân tích và xử lý giá trị âm trong baggage, insurance_fee, discount_amount ===\n",
      "\n",
      "Phân tích cột baggage:\n",
      "Số lượng giá trị âm: 2\n",
      "Tỷ lệ giá trị âm trên toàn bộ dữ liệu: 0.01%\n",
      "Số lượng giá trị âm sau khi xử lý: 0\n",
      "\n",
      "Phân tích cột insurance_fee:\n",
      "Số lượng giá trị âm: 3\n",
      "Tỷ lệ giá trị âm trên toàn bộ dữ liệu: 0.02%\n",
      "Số lượng giá trị âm sau khi xử lý: 0\n",
      "\n",
      "Phân tích cột discount_amount:\n",
      "Số lượng giá trị âm: 2\n",
      "Tỷ lệ giá trị âm trên toàn bộ dữ liệu: 0.01%\n",
      "Số lượng giá trị âm sau khi xử lý: 0\n",
      "\n",
      "Dữ liệu sau khi xử lý:\n",
      "  seat_class  baggage  insurance_fee  discount_amount\n",
      "0     I1_ECO        0            0.0            45000\n",
      "1     Z1_ECO        0            0.0            45000\n",
      "2     J1_ECO        0            0.0            16000\n",
      "3     J1_ECO        0            0.0            45000\n",
      "4     J1_ECO        0            0.0            24000\n"
     ]
    }
   ],
   "source": [
    "# --- Yêu cầu 2: Phân tích và xử lý giá trị âm trong baggage, insurance_fee, discount_amount ---\n",
    "print(\"\\n=== Phân tích và xử lý giá trị âm trong baggage, insurance_fee, discount_amount ===\")\n",
    "\n",
    "# Hàm kiểm tra và xử lý giá trị âm\n",
    "def analyze_and_fix_negative_values(column_name):\n",
    "    # Đếm số lượng giá trị âm\n",
    "    negative_count = (df[column_name] < 0).sum()\n",
    "    negative_percentage = calculate_percentage(negative_count, total_rows)\n",
    "    \n",
    "    # In kết quả\n",
    "    print(f\"\\nPhân tích cột {column_name}:\")\n",
    "    print(f\"Số lượng giá trị âm: {negative_count}\")\n",
    "    print(f\"Tỷ lệ giá trị âm trên toàn bộ dữ liệu: {negative_percentage:.2f}%\")\n",
    "    \n",
    "    # Thay thế giá trị âm bằng 0\n",
    "    df[column_name] = df[column_name].apply(lambda x: 0 if x < 0 else x)\n",
    "    \n",
    "    # Kiểm tra lại sau khi xử lý\n",
    "    negative_count_after = (df[column_name] < 0).sum()\n",
    "    print(f\"Số lượng giá trị âm sau khi xử lý: {negative_count_after}\")\n",
    "\n",
    "# Phân tích và xử lý từng cột\n",
    "analyze_and_fix_negative_values('baggage')\n",
    "analyze_and_fix_negative_values('insurance_fee')\n",
    "analyze_and_fix_negative_values('discount_amount')\n",
    "\n",
    "# In vài dòng đầu của DataFrame để kiểm tra\n",
    "print(\"\\nDữ liệu sau khi xử lý:\")\n",
    "print(df[['seat_class', 'baggage', 'insurance_fee', 'discount_amount']].head())"
   ]
  },
  {
   "cell_type": "markdown",
   "id": "b8328add",
   "metadata": {},
   "source": [
    "## 2.4 Type conversion"
   ]
  },
  {
   "cell_type": "code",
   "execution_count": 13,
   "id": "585b50cd",
   "metadata": {},
   "outputs": [
    {
     "name": "stdout",
     "output_type": "stream",
     "text": [
      "\n",
      "=== Kiểm tra và chuyển đổi kiểu dữ liệu ===\n",
      "\n",
      "Kiểu dữ liệu hiện tại của từng cột:\n",
      "order_id                       int64\n",
      "ticket_id                      int64\n",
      "passenger_id                  object\n",
      "passenger_gender              object\n",
      "passenger_age                float64\n",
      "ticket_source_name            object\n",
      "ticket_status                 object\n",
      "created_date          datetime64[ns]\n",
      "departure_date        datetime64[ns]\n",
      "departure_time                object\n",
      "arrival_date          datetime64[ns]\n",
      "arrival_time                  object\n",
      "from_to_location              object\n",
      "from_to                       object\n",
      "airline                       object\n",
      "seat_class                    object\n",
      "ticket_price                   int64\n",
      "baggage                        int64\n",
      "insurance_fee                float64\n",
      "discount_amount                int64\n",
      "dtype: object\n"
     ]
    }
   ],
   "source": [
    "print(\"\\n=== Kiểm tra và chuyển đổi kiểu dữ liệu ===\")\n",
    "\n",
    "# In kiểu dữ liệu hiện tại\n",
    "print(\"\\nKiểu dữ liệu hiện tại của từng cột:\")\n",
    "print(df.dtypes)"
   ]
  },
  {
   "cell_type": "code",
   "execution_count": 14,
   "id": "529f25e3",
   "metadata": {},
   "outputs": [],
   "source": [
    "df['passenger_age'] = df['passenger_age'].astype('int64')\n",
    "df['insurance_fee'] = df['insurance_fee'].astype('int64')"
   ]
  },
  {
   "cell_type": "markdown",
   "id": "f6c1413d",
   "metadata": {},
   "source": [
    "# III. Feature Enginnering"
   ]
  },
  {
   "cell_type": "markdown",
   "id": "ea4f7c82",
   "metadata": {},
   "source": [
    "## 3.1 Seat Class Group"
   ]
  },
  {
   "cell_type": "code",
   "execution_count": 15,
   "id": "519ff718",
   "metadata": {},
   "outputs": [
    {
     "name": "stdout",
     "output_type": "stream",
     "text": [
      "\n",
      "=== Phân tích cột seat_class ===\n",
      "\n",
      "Các giá trị duy nhất trong seat_class (trước khi gom nhóm):\n",
      "['I1_ECO' 'Z1_ECO' 'J1_ECO' 'EconomySmart' 'EconomySaver' 'N' 'L' 'E1_ECO'\n",
      " 'A1_ECO' 'P' 'U1_ECO' 'E' 'W1_ECO' 'R1_ECO' 'T' 'R' 'B1_ECO' 'C' 'A' 'K'\n",
      " 'D' 'H' 'H1_ECO' 'Q' 'L1_ECO' 'K1_ECO' 'M1_ECO' 'M' 'T1_ECO' 'N1_ECO'\n",
      " 'EconomyFlex' 'C,W' 'E,R' 'Q1_ECO' 'R,E' 'W,C' 'D,Z' 'O1_ECO' 'S'\n",
      " 'EconomySaverMax' 'A1_DLX' 'O' 'U1_DLX' 'R,T' 'K1_DLX' 'E1_DLX' 'Z1_DLX'\n",
      " 'BusinessSmart' 'U' 'G' 'Y' 'I1_DLX' 'L1_DLX' 'J1_DLX' 'V' 'W' 'L,K'\n",
      " 'S1_ECO' 'V_SBoss' 'K,N' 'Q,T' 'D,I' 'T,Q' 'W1_DLX' 'BusinessFlex' 'I'\n",
      " 'K,R' 'R,K' 'S,L']\n",
      "\n",
      "Số lượng giá trị duy nhất: 69\n",
      "\n",
      "Tần suất của từng giá trị (trước khi gom nhóm):\n",
      "seat_class\n",
      "E1_ECO          3162\n",
      "A1_ECO          2652\n",
      "Z1_ECO          2608\n",
      "EconomySaver    1622\n",
      "W1_ECO          1269\n",
      "                ... \n",
      "L,K                1\n",
      "BusinessFlex       1\n",
      "W1_DLX             1\n",
      "D,I                1\n",
      "S,L                1\n",
      "Name: count, Length: 69, dtype: int64\n"
     ]
    }
   ],
   "source": [
    "# --- Phân tích và gom nhóm cột seat_class ---\n",
    "print(\"\\n=== Phân tích cột seat_class ===\")\n",
    "\n",
    "# Kiểm tra các giá trị duy nhất và tần suất\n",
    "print(\"\\nCác giá trị duy nhất trong seat_class (trước khi gom nhóm):\")\n",
    "print(df['seat_class'].unique())\n",
    "print(f\"\\nSố lượng giá trị duy nhất: {df['seat_class'].nunique()}\")\n",
    "\n",
    "print(\"\\nTần suất của từng giá trị (trước khi gom nhóm):\")\n",
    "print(df['seat_class'].value_counts())"
   ]
  },
  {
   "cell_type": "code",
   "execution_count": 16,
   "id": "a89052c1",
   "metadata": {},
   "outputs": [
    {
     "name": "stdout",
     "output_type": "stream",
     "text": [
      "Number of passengers per class:\n",
      "First Class: 4\n",
      "Business: 16\n",
      "Deluxe: 41\n",
      "Economy: 18913\n",
      "Unknown: 0\n",
      "\n",
      "Total passengers: 18974\n",
      "Total rows in dataset: 18974\n",
      "\n",
      "Grouped seat classes:\n",
      "First Class: ['V_SBoss']\n",
      "Business Class: ['BusinessSmart', 'BusinessFlex']\n",
      "Deluxe Class: ['A1_DLX', 'U1_DLX', 'K1_DLX', 'E1_DLX', 'Z1_DLX', 'I1_DLX', 'L1_DLX', 'J1_DLX', 'W1_DLX']\n",
      "Economy Class: ['I1_ECO', 'Z1_ECO', 'J1_ECO', 'EconomySmart', 'EconomySaver', 'N', 'L', 'E1_ECO', 'A1_ECO', 'P', 'U1_ECO', 'E', 'W1_ECO', 'R1_ECO', 'T', 'R', 'B1_ECO', 'C', 'A', 'K', 'D', 'H', 'H1_ECO', 'Q', 'L1_ECO', 'K1_ECO', 'M1_ECO', 'M', 'T1_ECO', 'N1_ECO', 'EconomyFlex', 'C,W', 'E,R', 'Q1_ECO', 'R,E', 'W,C', 'D,Z', 'O1_ECO', 'S', 'EconomySaverMax', 'O', 'R,T', 'U', 'G', 'Y', 'V', 'W', 'L,K', 'S1_ECO', 'K,N', 'Q,T', 'D,I', 'T,Q', 'I', 'K,R', 'R,K', 'S,L']\n",
      "Number of unique seat classes: 69\n"
     ]
    }
   ],
   "source": [
    "# Extract unique seat_class values\n",
    "seat_classes = df['seat_class'].unique()\n",
    "\n",
    "# Initialize lists to store grouped classes\n",
    "first_class = []\n",
    "business_class = []\n",
    "deluxe_class = []\n",
    "economy_class = []\n",
    "\n",
    "# Grouping logic\n",
    "for seat in seat_classes:\n",
    "    seat_lower = seat.lower()\n",
    "    if seat == 'V_SBoss':  # Explicitly First Class\n",
    "        first_class.append(seat)\n",
    "    elif 'business' in seat_lower:  # Business class\n",
    "        business_class.append(seat)\n",
    "    elif 'dlx' in seat_lower:  # Deluxe class\n",
    "        deluxe_class.append(seat)\n",
    "    else:  # Economy class (ECO, Economy, single letters, or combinations)\n",
    "        economy_class.append(seat)\n",
    "\n",
    "# Create a mapping from seat_class to category\n",
    "seat_to_category = {}\n",
    "for seat in first_class:\n",
    "    seat_to_category[seat] = 'First Class'\n",
    "for seat in business_class:\n",
    "    seat_to_category[seat] = 'Business'\n",
    "for seat in deluxe_class:\n",
    "    seat_to_category[seat] = 'Deluxe'\n",
    "for seat in economy_class:\n",
    "    seat_to_category[seat] = 'Economy'\n",
    "\n",
    "# Map seat_class to category in the DataFrame\n",
    "# Handle any unmapped values by assigning to 'Unknown'\n",
    "df['seat_category'] = df['seat_class'].map(seat_to_category).fillna('Unknown')\n",
    "\n",
    "# Count passengers per category\n",
    "passenger_counts = df['seat_category'].value_counts()\n",
    "\n",
    "# Print results\n",
    "print(\"Number of passengers per class:\")\n",
    "for category in ['First Class', 'Business', 'Deluxe', 'Economy', 'Unknown']:\n",
    "    count = passenger_counts.get(category, 0)\n",
    "    print(f\"{category}: {count}\")\n",
    "\n",
    "# Verify total passengers\n",
    "total_passengers = passenger_counts.sum()\n",
    "print(f\"\\nTotal passengers: {total_passengers}\")\n",
    "print(f\"Total rows in dataset: {len(df)}\")\n",
    "\n",
    "# Print the grouped seat classes for reference\n",
    "print(\"\\nGrouped seat classes:\")\n",
    "print(\"First Class:\", first_class)\n",
    "print(\"Business Class:\", business_class)\n",
    "print(\"Deluxe Class:\", deluxe_class)\n",
    "print(\"Economy Class:\", economy_class)\n",
    "print(\"Number of unique seat classes:\", len(seat_classes))"
   ]
  },
  {
   "cell_type": "markdown",
   "id": "8062b126",
   "metadata": {},
   "source": [
    "## 3.2 Age Group"
   ]
  },
  {
   "cell_type": "code",
   "execution_count": 17,
   "id": "6544ca69",
   "metadata": {},
   "outputs": [
    {
     "name": "stdout",
     "output_type": "stream",
     "text": [
      "Summary statistics for age:\n",
      "count    18974.000000\n",
      "mean        30.300042\n",
      "std         13.970070\n",
      "min          1.000000\n",
      "25%         22.000000\n",
      "50%         28.000000\n",
      "75%         36.000000\n",
      "max         91.000000\n",
      "Name: passenger_age, dtype: float64\n",
      "\n",
      "Missing ages: 0\n",
      "Invalid ages (negative or >120): 0\n"
     ]
    },
    {
     "data": {
      "image/png": "[encoded data removed]",
      "text/plain": [
       "<Figure size 1000x600 with 1 Axes>"
      ]
     },
     "metadata": {},
     "output_type": "display_data"
    }
   ],
   "source": [
    "# Step 1: Explore age distribution\n",
    "print(\"Summary statistics for age:\")\n",
    "print(df['passenger_age'].describe())\n",
    "print(\"\\nMissing ages:\", df['passenger_age'].isna().sum())\n",
    "\n",
    "# Check for invalid ages (e.g., negative or unrealistically high)\n",
    "invalid_ages = df[(df['passenger_age'] < 0) | (df['passenger_age'] > 120)]['passenger_age']\n",
    "print(\"Invalid ages (negative or >120):\", len(invalid_ages))\n",
    "if len(invalid_ages) > 0:\n",
    "    print(\"Invalid age values:\", invalid_ages.tolist())\n",
    "\n",
    "# Plot histogram of age distribution\n",
    "plt.figure(figsize=(10, 6))\n",
    "sns.histplot(df['passenger_age'].dropna(), bins=30, kde=True)\n",
    "plt.title('Age Distribution of Passengers')\n",
    "plt.xlabel('Age')\n",
    "plt.ylabel('Number of Passengers')\n",
    "plt.show()"
   ]
  },
  {
   "cell_type": "code",
   "execution_count": 18,
   "id": "03a4dcd5",
   "metadata": {},
   "outputs": [],
   "source": [
    "# Step 2: Define age groups\n",
    "age_bins = [0, 12, 17, 34, 59, float('inf')]  # Age boundaries\n",
    "age_labels = ['Children (0-12)', 'Teenagers (13-17)', 'Young Adults (18-34)', 'Adults (35-59)', 'Seniors (60+)']\n",
    "df['age_group'] = pd.cut(df['passenger_age'], bins=age_bins, labels=age_labels, include_lowest=True)"
   ]
  },
  {
   "cell_type": "code",
   "execution_count": 19,
   "id": "96093a19",
   "metadata": {},
   "outputs": [
    {
     "name": "stdout",
     "output_type": "stream",
     "text": [
      "\n",
      "Number of passengers per age group:\n",
      "Children (0-12): 1341\n",
      "Teenagers (13-17): 311\n",
      "Young Adults (18-34): 12202\n",
      "Adults (35-59): 4235\n",
      "Seniors (60+): 885\n",
      "Unknown: 0\n",
      "\n",
      "Total passengers: 18974\n",
      "Total rows in dataset: 18974\n"
     ]
    },
    {
     "data": {
      "image/png": "[encoded data removed]",
      "text/plain": [
       "<Figure size 1000x600 with 1 Axes>"
      ]
     },
     "metadata": {},
     "output_type": "display_data"
    }
   ],
   "source": [
    "# Step 3: Count passengers per age group\n",
    "age_group_counts = df['age_group'].value_counts().reindex(age_labels + ['Unknown'], fill_value=0)\n",
    "\n",
    "# Print results\n",
    "print(\"\\nNumber of passengers per age group:\")\n",
    "for group, count in age_group_counts.items():\n",
    "    print(f\"{group}: {count}\")\n",
    "\n",
    "# Verify total passengers\n",
    "total_passengers = age_group_counts.sum()\n",
    "print(f\"\\nTotal passengers: {total_passengers}\")\n",
    "print(f\"Total rows in dataset: {len(df)}\")\n",
    "\n",
    "# Step 4: Visualize age group counts\n",
    "plt.figure(figsize=(10, 6))\n",
    "age_group_counts.plot(kind='bar')\n",
    "plt.title('Passenger Count by Age Group')\n",
    "plt.xlabel('Age Group')\n",
    "plt.ylabel('Number of Passengers')\n",
    "plt.xticks(rotation=45)\n",
    "plt.tight_layout()\n",
    "plt.show()"
   ]
  },
  {
   "cell_type": "code",
   "execution_count": 20,
   "id": "c2a5587c",
   "metadata": {},
   "outputs": [
    {
     "data": {
      "application/vnd.microsoft.datawrangler.viewer.v0+json": {
       "columns": [
        {
         "name": "index",
         "rawType": "int64",
         "type": "integer"
        },
        {
         "name": "order_id",
         "rawType": "int64",
         "type": "integer"
        },
        {
         "name": "ticket_id",
         "rawType": "int64",
         "type": "integer"
        },
        {
         "name": "passenger_id",
         "rawType": "object",
         "type": "string"
        },
        {
         "name": "passenger_gender",
         "rawType": "object",
         "type": "string"
        },
        {
         "name": "passenger_age",
         "rawType": "int64",
         "type": "integer"
        },
        {
         "name": "ticket_source_name",
         "rawType": "object",
         "type": "string"
        },
        {
         "name": "ticket_status",
         "rawType": "object",
         "type": "string"
        },
        {
         "name": "created_date",
         "rawType": "datetime64[ns]",
         "type": "datetime"
        },
        {
         "name": "departure_date",
         "rawType": "datetime64[ns]",
         "type": "datetime"
        },
        {
         "name": "departure_time",
         "rawType": "object",
         "type": "unknown"
        },
        {
         "name": "arrival_date",
         "rawType": "datetime64[ns]",
         "type": "datetime"
        },
        {
         "name": "arrival_time",
         "rawType": "object",
         "type": "unknown"
        },
        {
         "name": "from_to_location",
         "rawType": "object",
         "type": "string"
        },
        {
         "name": "from_to",
         "rawType": "object",
         "type": "string"
        },
        {
         "name": "airline",
         "rawType": "object",
         "type": "string"
        },
        {
         "name": "seat_class",
         "rawType": "object",
         "type": "string"
        },
        {
         "name": "ticket_price",
         "rawType": "int64",
         "type": "integer"
        },
        {
         "name": "baggage",
         "rawType": "int64",
         "type": "integer"
        },
        {
         "name": "insurance_fee",
         "rawType": "int64",
         "type": "integer"
        },
        {
         "name": "discount_amount",
         "rawType": "int64",
         "type": "integer"
        },
        {
         "name": "seat_category",
         "rawType": "object",
         "type": "string"
        },
        {
         "name": "age_group",
         "rawType": "category",
         "type": "unknown"
        }
       ],
       "conversionMethod": "pd.DataFrame",
       "ref": "83fad8d6-1c1f-4ad4-8588-3712c35e550f",
       "rows": [
        [
         "0",
         "20205",
         "31268",
         "Xs1fLinPQun+Oy/mD0FlfXMyJD38YlXJfXNbz+qO+5U=",
         "Female",
         "40",
         "IOS",
         "Paid",
         "2023-03-01 00:00:00",
         "2023-03-14 00:00:00",
         "17:55:00",
         "2023-03-14 00:00:00",
         "18:55:00",
         "BMV - SGN",
         "Đắk Lắk - Hồ Chí Minh",
         "Ry/OjEDP12vfMWbnat5Mudc3PE4qIK/wwfCkBE5zGlM=",
         "I1_ECO",
         "867760",
         "0",
         "0",
         "45000",
         "Economy",
         "Adults (35-59)"
        ],
        [
         "1",
         "20190",
         "31242",
         "m/auVlEoaGSe2MqR/Lq4CFXJnI8zauNyF/KiFmMgXHs=",
         "Female",
         "40",
         "GYL",
         "Paid",
         "2023-03-01 00:00:00",
         "2023-03-02 00:00:00",
         "09:30:00",
         "2023-03-02 00:00:00",
         "10:30:00",
         "BMV - SGN",
         "Đắk Lắk - Hồ Chí Minh",
         "Ry/OjEDP12vfMWbnat5Mudc3PE4qIK/wwfCkBE5zGlM=",
         "Z1_ECO",
         "974280",
         "0",
         "0",
         "45000",
         "Economy",
         "Adults (35-59)"
        ],
        [
         "2",
         "20245",
         "31337",
         "6HvtV2vTqUfNBJ53C4TzvJnb0s74KgcRNuUVS+8jRvU=",
         "Female",
         "48",
         "IOS",
         "Paid",
         "2023-03-01 00:00:00",
         "2023-04-10 00:00:00",
         "13:10:00",
         "2023-04-10 00:00:00",
         "14:35:00",
         "HUI - SGN",
         "Thừa Thiên Huế - Hồ Chí Minh",
         "Ry/OjEDP12vfMWbnat5Mudc3PE4qIK/wwfCkBE5zGlM=",
         "J1_ECO",
         "1423080",
         "0",
         "0",
         "16000",
         "Economy",
         "Adults (35-59)"
        ],
        [
         "3",
         "20259",
         "31360",
         "WiK2P31WEd4mckRNVWz0C2aKKRgSrauAG8NdfTLnKjE=",
         "Male",
         "29",
         "Android",
         "New",
         "2023-03-01 00:00:00",
         "2023-04-10 00:00:00",
         "13:10:00",
         "2023-04-10 00:00:00",
         "14:35:00",
         "HUI - SGN",
         "Thừa Thiên Huế - Hồ Chí Minh",
         "Ry/OjEDP12vfMWbnat5Mudc3PE4qIK/wwfCkBE5zGlM=",
         "J1_ECO",
         "1067310",
         "0",
         "0",
         "45000",
         "Economy",
         "Young Adults (18-34)"
        ],
        [
         "4",
         "20255",
         "31355",
         "6HvtV2vTqUfNBJ53C4TzvJnb0s74KgcRNuUVS+8jRvU=",
         "Female",
         "42",
         "IOS",
         "Paid",
         "2023-03-01 00:00:00",
         "2023-04-10 00:00:00",
         "13:10:00",
         "2023-04-10 00:00:00",
         "14:35:00",
         "HUI - SGN",
         "Thừa Thiên Huế - Hồ Chí Minh",
         "Ry/OjEDP12vfMWbnat5Mudc3PE4qIK/wwfCkBE5zGlM=",
         "J1_ECO",
         "1067310",
         "0",
         "0",
         "24000",
         "Economy",
         "Adults (35-59)"
        ]
       ],
       "shape": {
        "columns": 22,
        "rows": 5
       }
      },
      "text/html": [
       "<div>\n",
       "<style scoped>\n",
       "    .dataframe tbody tr th:only-of-type {\n",
       "        vertical-align: middle;\n",
       "    }\n",
       "\n",
       "    .dataframe tbody tr th {\n",
       "        vertical-align: top;\n",
       "    }\n",
       "\n",
       "    .dataframe thead th {\n",
       "        text-align: right;\n",
       "    }\n",
       "</style>\n",
       "<table border=\"1\" class=\"dataframe\">\n",
       "  <thead>\n",
       "    <tr style=\"text-align: right;\">\n",
       "      <th></th>\n",
       "      <th>order_id</th>\n",
       "      <th>ticket_id</th>\n",
       "      <th>passenger_id</th>\n",
       "      <th>passenger_gender</th>\n",
       "      <th>passenger_age</th>\n",
       "      <th>ticket_source_name</th>\n",
       "      <th>ticket_status</th>\n",
       "      <th>created_date</th>\n",
       "      <th>departure_date</th>\n",
       "      <th>departure_time</th>\n",
       "      <th>...</th>\n",
       "      <th>from_to_location</th>\n",
       "      <th>from_to</th>\n",
       "      <th>airline</th>\n",
       "      <th>seat_class</th>\n",
       "      <th>ticket_price</th>\n",
       "      <th>baggage</th>\n",
       "      <th>insurance_fee</th>\n",
       "      <th>discount_amount</th>\n",
       "      <th>seat_category</th>\n",
       "      <th>age_group</th>\n",
       "    </tr>\n",
       "  </thead>\n",
       "  <tbody>\n",
       "    <tr>\n",
       "      <th>0</th>\n",
       "      <td>20205</td>\n",
       "      <td>31268</td>\n",
       "      <td>Xs1fLinPQun+Oy/mD0FlfXMyJD38YlXJfXNbz+qO+5U=</td>\n",
       "      <td>Female</td>\n",
       "      <td>40</td>\n",
       "      <td>IOS</td>\n",
       "      <td>Paid</td>\n",
       "      <td>2023-03-01</td>\n",
       "      <td>2023-03-14</td>\n",
       "      <td>17:55:00</td>\n",
       "      <td>...</td>\n",
       "      <td>BMV - SGN</td>\n",
       "      <td>Đắk Lắk - Hồ Chí Minh</td>\n",
       "      <td>Ry/OjEDP12vfMWbnat5Mudc3PE4qIK/wwfCkBE5zGlM=</td>\n",
       "      <td>I1_ECO</td>\n",
       "      <td>867760</td>\n",
       "      <td>0</td>\n",
       "      <td>0</td>\n",
       "      <td>45000</td>\n",
       "      <td>Economy</td>\n",
       "      <td>Adults (35-59)</td>\n",
       "    </tr>\n",
       "    <tr>\n",
       "      <th>1</th>\n",
       "      <td>20190</td>\n",
       "      <td>31242</td>\n",
       "      <td>m/auVlEoaGSe2MqR/Lq4CFXJnI8zauNyF/KiFmMgXHs=</td>\n",
       "      <td>Female</td>\n",
       "      <td>40</td>\n",
       "      <td>GYL</td>\n",
       "      <td>Paid</td>\n",
       "      <td>2023-03-01</td>\n",
       "      <td>2023-03-02</td>\n",
       "      <td>09:30:00</td>\n",
       "      <td>...</td>\n",
       "      <td>BMV - SGN</td>\n",
       "      <td>Đắk Lắk - Hồ Chí Minh</td>\n",
       "      <td>Ry/OjEDP12vfMWbnat5Mudc3PE4qIK/wwfCkBE5zGlM=</td>\n",
       "      <td>Z1_ECO</td>\n",
       "      <td>974280</td>\n",
       "      <td>0</td>\n",
       "      <td>0</td>\n",
       "      <td>45000</td>\n",
       "      <td>Economy</td>\n",
       "      <td>Adults (35-59)</td>\n",
       "    </tr>\n",
       "    <tr>\n",
       "      <th>2</th>\n",
       "      <td>20245</td>\n",
       "      <td>31337</td>\n",
       "      <td>6HvtV2vTqUfNBJ53C4TzvJnb0s74KgcRNuUVS+8jRvU=</td>\n",
       "      <td>Female</td>\n",
       "      <td>48</td>\n",
       "      <td>IOS</td>\n",
       "      <td>Paid</td>\n",
       "      <td>2023-03-01</td>\n",
       "      <td>2023-04-10</td>\n",
       "      <td>13:10:00</td>\n",
       "      <td>...</td>\n",
       "      <td>HUI - SGN</td>\n",
       "      <td>Thừa Thiên Huế - Hồ Chí Minh</td>\n",
       "      <td>Ry/OjEDP12vfMWbnat5Mudc3PE4qIK/wwfCkBE5zGlM=</td>\n",
       "      <td>J1_ECO</td>\n",
       "      <td>1423080</td>\n",
       "      <td>0</td>\n",
       "      <td>0</td>\n",
       "      <td>16000</td>\n",
       "      <td>Economy</td>\n",
       "      <td>Adults (35-59)</td>\n",
       "    </tr>\n",
       "    <tr>\n",
       "      <th>3</th>\n",
       "      <td>20259</td>\n",
       "      <td>31360</td>\n",
       "      <td>WiK2P31WEd4mckRNVWz0C2aKKRgSrauAG8NdfTLnKjE=</td>\n",
       "      <td>Male</td>\n",
       "      <td>29</td>\n",
       "      <td>Android</td>\n",
       "      <td>New</td>\n",
       "      <td>2023-03-01</td>\n",
       "      <td>2023-04-10</td>\n",
       "      <td>13:10:00</td>\n",
       "      <td>...</td>\n",
       "      <td>HUI - SGN</td>\n",
       "      <td>Thừa Thiên Huế - Hồ Chí Minh</td>\n",
       "      <td>Ry/OjEDP12vfMWbnat5Mudc3PE4qIK/wwfCkBE5zGlM=</td>\n",
       "      <td>J1_ECO</td>\n",
       "      <td>1067310</td>\n",
       "      <td>0</td>\n",
       "      <td>0</td>\n",
       "      <td>45000</td>\n",
       "      <td>Economy</td>\n",
       "      <td>Young Adults (18-34)</td>\n",
       "    </tr>\n",
       "    <tr>\n",
       "      <th>4</th>\n",
       "      <td>20255</td>\n",
       "      <td>31355</td>\n",
       "      <td>6HvtV2vTqUfNBJ53C4TzvJnb0s74KgcRNuUVS+8jRvU=</td>\n",
       "      <td>Female</td>\n",
       "      <td>42</td>\n",
       "      <td>IOS</td>\n",
       "      <td>Paid</td>\n",
       "      <td>2023-03-01</td>\n",
       "      <td>2023-04-10</td>\n",
       "      <td>13:10:00</td>\n",
       "      <td>...</td>\n",
       "      <td>HUI - SGN</td>\n",
       "      <td>Thừa Thiên Huế - Hồ Chí Minh</td>\n",
       "      <td>Ry/OjEDP12vfMWbnat5Mudc3PE4qIK/wwfCkBE5zGlM=</td>\n",
       "      <td>J1_ECO</td>\n",
       "      <td>1067310</td>\n",
       "      <td>0</td>\n",
       "      <td>0</td>\n",
       "      <td>24000</td>\n",
       "      <td>Economy</td>\n",
       "      <td>Adults (35-59)</td>\n",
       "    </tr>\n",
       "  </tbody>\n",
       "</table>\n",
       "<p>5 rows × 22 columns</p>\n",
       "</div>"
      ],
      "text/plain": [
       "   order_id  ticket_id                                  passenger_id  \\\n",
       "0     20205      31268  Xs1fLinPQun+Oy/mD0FlfXMyJD38YlXJfXNbz+qO+5U=   \n",
       "1     20190      31242  m/auVlEoaGSe2MqR/Lq4CFXJnI8zauNyF/KiFmMgXHs=   \n",
       "2     20245      31337  6HvtV2vTqUfNBJ53C4TzvJnb0s74KgcRNuUVS+8jRvU=   \n",
       "3     20259      31360  WiK2P31WEd4mckRNVWz0C2aKKRgSrauAG8NdfTLnKjE=   \n",
       "4     20255      31355  6HvtV2vTqUfNBJ53C4TzvJnb0s74KgcRNuUVS+8jRvU=   \n",
       "\n",
       "  passenger_gender  passenger_age ticket_source_name ticket_status  \\\n",
       "0           Female             40                IOS          Paid   \n",
       "1           Female             40                GYL          Paid   \n",
       "2           Female             48                IOS          Paid   \n",
       "3             Male             29            Android           New   \n",
       "4           Female             42                IOS          Paid   \n",
       "\n",
       "  created_date departure_date departure_time  ... from_to_location  \\\n",
       "0   2023-03-01     2023-03-14       17:55:00  ...        BMV - SGN   \n",
       "1   2023-03-01     2023-03-02       09:30:00  ...        BMV - SGN   \n",
       "2   2023-03-01     2023-04-10       13:10:00  ...        HUI - SGN   \n",
       "3   2023-03-01     2023-04-10       13:10:00  ...        HUI - SGN   \n",
       "4   2023-03-01     2023-04-10       13:10:00  ...        HUI - SGN   \n",
       "\n",
       "                        from_to                                       airline  \\\n",
       "0         Đắk Lắk - Hồ Chí Minh  Ry/OjEDP12vfMWbnat5Mudc3PE4qIK/wwfCkBE5zGlM=   \n",
       "1         Đắk Lắk - Hồ Chí Minh  Ry/OjEDP12vfMWbnat5Mudc3PE4qIK/wwfCkBE5zGlM=   \n",
       "2  Thừa Thiên Huế - Hồ Chí Minh  Ry/OjEDP12vfMWbnat5Mudc3PE4qIK/wwfCkBE5zGlM=   \n",
       "3  Thừa Thiên Huế - Hồ Chí Minh  Ry/OjEDP12vfMWbnat5Mudc3PE4qIK/wwfCkBE5zGlM=   \n",
       "4  Thừa Thiên Huế - Hồ Chí Minh  Ry/OjEDP12vfMWbnat5Mudc3PE4qIK/wwfCkBE5zGlM=   \n",
       "\n",
       "  seat_class ticket_price baggage  insurance_fee  discount_amount  \\\n",
       "0     I1_ECO       867760       0              0            45000   \n",
       "1     Z1_ECO       974280       0              0            45000   \n",
       "2     J1_ECO      1423080       0              0            16000   \n",
       "3     J1_ECO      1067310       0              0            45000   \n",
       "4     J1_ECO      1067310       0              0            24000   \n",
       "\n",
       "   seat_category             age_group  \n",
       "0        Economy        Adults (35-59)  \n",
       "1        Economy        Adults (35-59)  \n",
       "2        Economy        Adults (35-59)  \n",
       "3        Economy  Young Adults (18-34)  \n",
       "4        Economy        Adults (35-59)  \n",
       "\n",
       "[5 rows x 22 columns]"
      ]
     },
     "execution_count": 20,
     "metadata": {},
     "output_type": "execute_result"
    }
   ],
   "source": [
    "df.head()"
   ]
  },
  {
   "cell_type": "markdown",
   "id": "5418bf8d",
   "metadata": {},
   "source": [
    "## 3.3 Other col"
   ]
  },
  {
   "cell_type": "code",
   "execution_count": 21,
   "id": "549cd5fc",
   "metadata": {},
   "outputs": [
    {
     "name": "stdout",
     "output_type": "stream",
     "text": [
      "Negative lead times: 0\n"
     ]
    }
   ],
   "source": [
    "# Step 1: Lead Time (Booking Window)\n",
    "# Convert date columns to datetime\n",
    "df['created_date'] = pd.to_datetime(df['created_date'], errors='coerce')\n",
    "df['departure_date'] = pd.to_datetime(df['departure_date'], errors='coerce')\n",
    "\n",
    "# Calculate lead time in days\n",
    "df['lead_time_days'] = (df['departure_date'] - df['created_date']).dt.days\n",
    "\n",
    "# Check for negative lead times\n",
    "negative_lead_times = df[df['lead_time_days'] < 0]\n",
    "print(\"Negative lead times:\", len(negative_lead_times))\n",
    "if len(negative_lead_times) > 0:\n",
    "    print(\"Examples of negative lead times:\")\n",
    "    print(negative_lead_times[['created_date', 'departure_date', 'lead_time_days']].head())\n"
   ]
  },
  {
   "cell_type": "code",
   "execution_count": 22,
   "id": "9c9efe1a",
   "metadata": {},
   "outputs": [],
   "source": [
    "# # Step 2: Day of Week\n",
    "# # Extract day of week (0 = Monday, 6 = Sunday)\n",
    "# df['departure_dayofweek'] = df['departure_date'].dt.dayofweek\n",
    "# df['booking_dayofweek'] = df['created_date'].dt.dayofweek\n",
    "\n",
    "# # Create is_weekend column (1 if Saturday or Sunday, else 0)\n",
    "# df['is_weekend'] = df['departure_dayofweek'].isin([5, 6]).astype(int)\n"
   ]
  },
  {
   "cell_type": "code",
   "execution_count": 23,
   "id": "966d0528",
   "metadata": {},
   "outputs": [],
   "source": [
    "# Step 3: Split from_to column\n",
    "# Split into 'from' and 'to' columns\n",
    "from_to_split = df['from_to'].str.split('-', expand=True)\n",
    "if from_to_split.shape[1] >= 2:\n",
    "    df['from'] = from_to_split[0]\n",
    "    df['to'] = from_to_split[1]\n",
    "else:\n",
    "    print(\"Warning: Some from_to values may not have a '-' delimiter\")\n",
    "    df['from'] = df['from_to']\n",
    "    df['to'] = None"
   ]
  },
  {
   "cell_type": "markdown",
   "id": "2df622ab",
   "metadata": {},
   "source": [
    "# IV. Data Mart"
   ]
  },
  {
   "cell_type": "code",
   "execution_count": 24,
   "id": "84d6e775",
   "metadata": {},
   "outputs": [
    {
     "name": "stdout",
     "output_type": "stream",
     "text": [
      "Error saving file: [Errno 13] Permission denied: 'E:\\\\SkyRevenue Insights\\\\0. Data\\\\df_cleaned.xlsx'\n"
     ]
    }
   ],
   "source": [
    "output_file = r'E:\\SkyRevenue Insights\\0. Data\\df_cleaned.xlsx'\n",
    "try:\n",
    "    df.to_excel(output_file, index=False)\n",
    "    print(f\"\\nDataset successfully saved as '{output_file}'\")\n",
    "    # Verify file exists\n",
    "    if os.path.exists(output_file):\n",
    "        print(f\"File '{output_file}' confirmed in directory: {os.getcwd()}\")\n",
    "    else:\n",
    "        print(f\"Warning: File '{output_file}' was not found after saving\")\n",
    "except Exception as e:\n",
    "    print(f\"Error saving file: {e}\")"
   ]
  },
  {
   "cell_type": "code",
   "execution_count": 25,
   "id": "4b234046",
   "metadata": {},
   "outputs": [],
   "source": [
    "# Load original data\n",
    "df = pd.read_excel(r'E:\\SkyRevenue Insights\\0. Data\\df_cleaned.xlsx')"
   ]
  },
  {
   "cell_type": "code",
   "execution_count": 33,
   "id": "9d0e16ff",
   "metadata": {},
   "outputs": [],
   "source": [
    "\n",
    "from datetime import timedelta\n",
    "\n",
    "# Đường dẫn thư mục lưu file CSV\n",
    "output_dir = r\"E:\\SkyRevenue Insights\\0. Data\\Data mart\"\n",
    "\n",
    "# Load dữ liệu gốc\n",
    "df['created_date'] = pd.to_datetime(df['created_date'])\n",
    "df['departure_date'] = pd.to_datetime(df['departure_date'])\n",
    "df['arrival_date'] = pd.to_datetime(df['arrival_date'])\n",
    "\n",
    "# --- Dim_Date: cover full range của created_date, departure_date, arrival_date ---\n",
    "min_date = min(df['created_date'].min(), df['departure_date'].min(), df['arrival_date'].min())\n",
    "max_date = max(df['created_date'].max(), df['departure_date'].max(), df['arrival_date'].max())\n",
    "all_dates = pd.date_range(start=min_date, end=max_date, freq='D')\n",
    "dim_date = pd.DataFrame({'Date': all_dates})\n",
    "dim_date['Year'] = dim_date['Date'].dt.year\n",
    "dim_date['Quarter'] = dim_date['Date'].dt.quarter\n",
    "dim_date['Month'] = dim_date['Date'].dt.month\n",
    "dim_date['Day'] = dim_date['Date'].dt.day\n",
    "dim_date['DayOfWeek'] = dim_date['Date'].dt.day_name()\n",
    "dim_date['DateKey'] = dim_date.index + 1\n",
    "dim_date.to_csv(f\"{output_dir}\\\\Dim_Date.csv\", index=False)\n",
    "\n",
    "# --- Dim_Customer & RFM + classification ---\n",
    "snapshot_date = df['created_date'].max() + timedelta(days=1)\n",
    "rfm = df.groupby('passenger_id').agg({\n",
    "    'created_date': lambda x: (snapshot_date - x.max()).days,\n",
    "    'ticket_id': 'count',\n",
    "    'ticket_price': 'sum'\n",
    "}).reset_index().rename(columns={\n",
    "    'created_date': 'Recency',\n",
    "    'ticket_id': 'Frequency',\n",
    "    'ticket_price': 'Monetary'\n",
    "})\n",
    "# Tính R, F, M quartiles\n",
    "rfm['R'] = pd.qcut(rfm['Recency'], 4, labels=False, duplicates='drop') + 1\n",
    "rfm['F'] = pd.qcut(rfm['Frequency'], 4, labels=False, duplicates='drop') + 1\n",
    "rfm['M'] = pd.qcut(rfm['Monetary'], 4, labels=False, duplicates='drop') + 1\n",
    "rfm['RFM_Segment'] = rfm['R'].astype(str) + rfm['F'].astype(str) + rfm['M'].astype(str)\n",
    "# Tính tổng điểm và phân loại\n",
    "rfm['RFM_Score'] = rfm['R'] + rfm['F'] + rfm['M']\n",
    "def classify(score):\n",
    "    if score >= 10:\n",
    "        return 'Champions'\n",
    "    elif score >= 7:\n",
    "        return 'Loyal'\n",
    "    elif score >= 5:\n",
    "        return 'Potential'\n",
    "    else:\n",
    "        return 'At Risk'\n",
    "rfm['RFM_Class'] = rfm['RFM_Score'].apply(classify)\n",
    "\n",
    "dim_customer = df[['passenger_id','passenger_gender','passenger_age','age_group']].drop_duplicates()\n",
    "dim_customer = dim_customer.merge(rfm, on='passenger_id')\n",
    "dim_customer['PassengerKey'] = range(1, len(dim_customer)+1)\n",
    "dim_customer.to_csv(f\"{output_dir}\\\\Dim_Customer.csv\", index=False)\n",
    "\n",
    "# --- Dim_Channel ---\n",
    "dim_channel = pd.DataFrame({\n",
    "    'ChannelKey': range(1, df['ticket_source_name'].nunique()+1),\n",
    "    'ChannelName': df['ticket_source_name'].unique()\n",
    "})\n",
    "dim_channel.to_csv(f\"{output_dir}\\\\Dim_Channel.csv\", index=False)\n",
    "\n",
    "# --- Dim_Airline ---\n",
    "dim_airline = pd.DataFrame({\n",
    "    'AirlineKey': range(1, df['airline'].nunique()+1),\n",
    "    'AirlineName': df['airline'].unique()\n",
    "})\n",
    "dim_airline.to_csv(f\"{output_dir}\\\\Dim_Airline.csv\", index=False)\n",
    "\n",
    "# --- Dim_Origin ---\n",
    "dim_origin = pd.DataFrame({\n",
    "    'OriginKey': range(1, df['from'].str.strip().nunique()+1),\n",
    "    'OriginName': df['from'].str.strip().unique()\n",
    "})\n",
    "dim_origin.to_csv(f\"{output_dir}\\\\Dim_Origin.csv\", index=False)\n",
    "\n",
    "# --- Dim_Destination ---\n",
    "dim_destination = pd.DataFrame({\n",
    "    'DestinationKey': range(1, df['to'].str.strip().nunique()+1),\n",
    "    'DestinationName': df['to'].str.strip().unique()\n",
    "})\n",
    "dim_destination.to_csv(f\"{output_dir}\\\\Dim_Destination.csv\", index=False)\n",
    "\n",
    "# --- Dim_Route ---\n",
    "routes = df[['from','to']].drop_duplicates().reset_index(drop=True)\n",
    "routes['OriginName'] = routes['from'].str.strip()\n",
    "routes['DestinationName'] = routes['to'].str.strip()\n",
    "routes['RouteName'] = routes['OriginName'] + ' → ' + routes['DestinationName']\n",
    "routes['RouteKey'] = routes.index + 1\n",
    "origin_map = dict(zip(dim_origin['OriginName'], dim_origin['OriginKey']))\n",
    "dest_map = dict(zip(dim_destination['DestinationName'], dim_destination['DestinationKey']))\n",
    "routes['OriginKey'] = routes['OriginName'].map(origin_map)\n",
    "routes['DestinationKey'] = routes['DestinationName'].map(dest_map)\n",
    "dim_route = routes[['RouteKey','OriginKey','DestinationKey','RouteName']]\n",
    "dim_route.to_csv(f\"{output_dir}\\\\Dim_Route.csv\", index=False)\n",
    "\n",
    "# --- Dim_SeatClass ---\n",
    "dim_seatclass = df[['seat_class','seat_category']].drop_duplicates().reset_index(drop=True)\n",
    "dim_seatclass = dim_seatclass.rename(columns={'seat_class':'SeatClassName','seat_category':'SeatGroup'})\n",
    "dim_seatclass['SeatClassKey'] = dim_seatclass.index + 1\n",
    "dim_seatclass.to_csv(f\"{output_dir}\\\\Dim_SeatClass.csv\", index=False)\n",
    "\n",
    "# --- Fact_Booking ---\n",
    "# Map keys\n",
    "date_map = dict(zip(dim_date['Date'], dim_date['DateKey']))\n",
    "cust_map = dict(zip(dim_customer['passenger_id'], dim_customer['PassengerKey']))\n",
    "channel_map = dict(zip(dim_channel['ChannelName'], dim_channel['ChannelKey']))\n",
    "airline_map = dict(zip(dim_airline['AirlineName'], dim_airline['AirlineKey']))\n",
    "origin_map = dict(zip(dim_origin['OriginName'], dim_origin['OriginKey']))\n",
    "dest_map = dict(zip(dim_destination['DestinationName'], dim_destination['DestinationKey']))\n",
    "route_map = dict(zip(dim_route['RouteName'], dim_route['RouteKey']))\n",
    "seatclass_map = dict(zip(dim_seatclass['SeatClassName'], dim_seatclass['SeatClassKey']))\n",
    "\n",
    "df['OrderDateKey'] = df['created_date'].map(date_map)\n",
    "df['DepartureDateKey'] = df['departure_date'].map(date_map)\n",
    "df['ArrivalDateKey'] = df['arrival_date'].map(date_map)\n",
    "df['PassengerKey'] = df['passenger_id'].map(cust_map)\n",
    "df['ChannelKey'] = df['ticket_source_name'].map(channel_map)\n",
    "df['AirlineKey'] = df['airline'].map(airline_map)\n",
    "df['OriginKey'] = df['from'].str.strip().map(origin_map)\n",
    "df['DestinationKey'] = df['to'].str.strip().map(dest_map)\n",
    "df['RouteKey'] = (df['from'].str.strip() + ' → ' + df['to'].str.strip()).map(route_map)\n",
    "df['SeatClassKey'] = df['seat_class'].map(seatclass_map)\n",
    "\n",
    "fact_cols = [\n",
    "    'order_id','ticket_id','OrderDateKey','DepartureDateKey','ArrivalDateKey',\n",
    "    'PassengerKey','ChannelKey','AirlineKey','OriginKey','DestinationKey',\n",
    "    'RouteKey','SeatClassKey','ticket_price','discount_amount',\n",
    "    'insurance_fee','baggage','lead_time_days'\n",
    "]\n",
    "fact_booking = df[fact_cols].drop_duplicates().reset_index(drop=True)\n",
    "fact_booking['BookingKey'] = range(1, len(fact_booking)+1)\n",
    "fact_booking['DiscountRate'] = fact_booking['discount_amount'] / fact_booking['ticket_price']\n",
    "fact_booking['CancellationFlag'] = (df['ticket_status'] == 'Cancelled').astype(int).values\n",
    "fact_booking['ProfitAmount'] = fact_booking['ticket_price'] - fact_booking['discount_amount'] - fact_booking['insurance_fee']\n",
    "fact_booking.to_csv(f\"{output_dir}\\\\Fact_Booking.csv\", index=False)\n",
    "\n"
   ]
  }
 ],
 "metadata": {
  "kernelspec": {
   "display_name": ".venv",
   "language": "python",
   "name": "python3"
  },
  "language_info": {
   "codemirror_mode": {
    "name": "ipython",
    "version": 3
   },
   "file_extension": ".py",
   "mimetype": "text/x-python",
   "name": "python",
   "nbconvert_exporter": "python",
   "pygments_lexer": "ipython3",
   "version": "3.12.10"
  }
 },
 "nbformat": 4,
 "nbformat_minor": 5
}
