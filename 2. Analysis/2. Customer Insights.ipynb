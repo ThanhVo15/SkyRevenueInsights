{
 "cells": [
  {
   "cell_type": "markdown",
   "id": "7b853ce3",
   "metadata": {},
   "source": [
    "# I. Load Data"
   ]
  },
  {
   "cell_type": "code",
   "execution_count": 17,
   "id": "cebb7306",
   "metadata": {},
   "outputs": [],
   "source": [
    "import pandas as pd\n",
    "import numpy as np\n",
    "import matplotlib.pyplot as plt\n",
    "import seaborn as sns, squarify"
   ]
  },
  {
   "cell_type": "code",
   "execution_count": 11,
   "id": "6983d30d",
   "metadata": {},
   "outputs": [
    {
     "name": "stdout",
     "output_type": "stream",
     "text": [
      "File tồn tại!\n"
     ]
    },
    {
     "data": {
      "application/vnd.microsoft.datawrangler.viewer.v0+json": {
       "columns": [
        {
         "name": "index",
         "rawType": "int64",
         "type": "integer"
        },
        {
         "name": "order_id",
         "rawType": "int64",
         "type": "integer"
        },
        {
         "name": "ticket_id",
         "rawType": "int64",
         "type": "integer"
        },
        {
         "name": "passenger_id",
         "rawType": "object",
         "type": "string"
        },
        {
         "name": "passenger_gender",
         "rawType": "object",
         "type": "string"
        },
        {
         "name": "passenger_age",
         "rawType": "int64",
         "type": "integer"
        },
        {
         "name": "ticket_source_name",
         "rawType": "object",
         "type": "string"
        },
        {
         "name": "ticket_status",
         "rawType": "object",
         "type": "string"
        },
        {
         "name": "created_date",
         "rawType": "datetime64[ns]",
         "type": "datetime"
        },
        {
         "name": "departure_date",
         "rawType": "datetime64[ns]",
         "type": "datetime"
        },
        {
         "name": "departure_time",
         "rawType": "object",
         "type": "string"
        },
        {
         "name": "arrival_date",
         "rawType": "datetime64[ns]",
         "type": "datetime"
        },
        {
         "name": "arrival_time",
         "rawType": "object",
         "type": "string"
        },
        {
         "name": "from_to_location",
         "rawType": "object",
         "type": "string"
        },
        {
         "name": "from_to",
         "rawType": "object",
         "type": "string"
        },
        {
         "name": "airline",
         "rawType": "object",
         "type": "string"
        },
        {
         "name": "seat_class",
         "rawType": "object",
         "type": "string"
        },
        {
         "name": "ticket_price",
         "rawType": "int64",
         "type": "integer"
        },
        {
         "name": "baggage",
         "rawType": "int64",
         "type": "integer"
        },
        {
         "name": "insurance_fee",
         "rawType": "int64",
         "type": "integer"
        },
        {
         "name": "discount_amount",
         "rawType": "int64",
         "type": "integer"
        },
        {
         "name": "seat_category",
         "rawType": "object",
         "type": "string"
        },
        {
         "name": "age_group",
         "rawType": "object",
         "type": "string"
        },
        {
         "name": "lead_time_days",
         "rawType": "int64",
         "type": "integer"
        },
        {
         "name": "from",
         "rawType": "object",
         "type": "string"
        },
        {
         "name": "to",
         "rawType": "object",
         "type": "string"
        }
       ],
       "conversionMethod": "pd.DataFrame",
       "ref": "fb00af1a-136d-4438-918f-d34b86856280",
       "rows": [
        [
         "0",
         "20205",
         "31268",
         "Xs1fLinPQun+Oy/mD0FlfXMyJD38YlXJfXNbz+qO+5U=",
         "Female",
         "40",
         "IOS",
         "Paid",
         "2023-03-01 00:00:00",
         "2023-03-14 00:00:00",
         "17:55:00",
         "2023-03-14 00:00:00",
         "18:55:00",
         "BMV - SGN",
         "Đắk Lắk - Hồ Chí Minh",
         "Ry/OjEDP12vfMWbnat5Mudc3PE4qIK/wwfCkBE5zGlM=",
         "I1_ECO",
         "867760",
         "0",
         "0",
         "45000",
         "Economy",
         "Adults (35-59)",
         "13",
         "Đắk Lắk ",
         " Hồ Chí Minh"
        ],
        [
         "1",
         "20190",
         "31242",
         "m/auVlEoaGSe2MqR/Lq4CFXJnI8zauNyF/KiFmMgXHs=",
         "Female",
         "40",
         "GYL",
         "Paid",
         "2023-03-01 00:00:00",
         "2023-03-02 00:00:00",
         "09:30:00",
         "2023-03-02 00:00:00",
         "10:30:00",
         "BMV - SGN",
         "Đắk Lắk - Hồ Chí Minh",
         "Ry/OjEDP12vfMWbnat5Mudc3PE4qIK/wwfCkBE5zGlM=",
         "Z1_ECO",
         "974280",
         "0",
         "0",
         "45000",
         "Economy",
         "Adults (35-59)",
         "1",
         "Đắk Lắk ",
         " Hồ Chí Minh"
        ],
        [
         "2",
         "20245",
         "31337",
         "6HvtV2vTqUfNBJ53C4TzvJnb0s74KgcRNuUVS+8jRvU=",
         "Female",
         "48",
         "IOS",
         "Paid",
         "2023-03-01 00:00:00",
         "2023-04-10 00:00:00",
         "13:10:00",
         "2023-04-10 00:00:00",
         "14:35:00",
         "HUI - SGN",
         "Thừa Thiên Huế - Hồ Chí Minh",
         "Ry/OjEDP12vfMWbnat5Mudc3PE4qIK/wwfCkBE5zGlM=",
         "J1_ECO",
         "1423080",
         "0",
         "0",
         "16000",
         "Economy",
         "Adults (35-59)",
         "40",
         "Thừa Thiên Huế ",
         " Hồ Chí Minh"
        ],
        [
         "3",
         "20259",
         "31360",
         "WiK2P31WEd4mckRNVWz0C2aKKRgSrauAG8NdfTLnKjE=",
         "Male",
         "29",
         "Android",
         "New",
         "2023-03-01 00:00:00",
         "2023-04-10 00:00:00",
         "13:10:00",
         "2023-04-10 00:00:00",
         "14:35:00",
         "HUI - SGN",
         "Thừa Thiên Huế - Hồ Chí Minh",
         "Ry/OjEDP12vfMWbnat5Mudc3PE4qIK/wwfCkBE5zGlM=",
         "J1_ECO",
         "1067310",
         "0",
         "0",
         "45000",
         "Economy",
         "Young Adults (18-34)",
         "40",
         "Thừa Thiên Huế ",
         " Hồ Chí Minh"
        ],
        [
         "4",
         "20255",
         "31355",
         "6HvtV2vTqUfNBJ53C4TzvJnb0s74KgcRNuUVS+8jRvU=",
         "Female",
         "42",
         "IOS",
         "Paid",
         "2023-03-01 00:00:00",
         "2023-04-10 00:00:00",
         "13:10:00",
         "2023-04-10 00:00:00",
         "14:35:00",
         "HUI - SGN",
         "Thừa Thiên Huế - Hồ Chí Minh",
         "Ry/OjEDP12vfMWbnat5Mudc3PE4qIK/wwfCkBE5zGlM=",
         "J1_ECO",
         "1067310",
         "0",
         "0",
         "24000",
         "Economy",
         "Adults (35-59)",
         "40",
         "Thừa Thiên Huế ",
         " Hồ Chí Minh"
        ]
       ],
       "shape": {
        "columns": 25,
        "rows": 5
       }
      },
      "text/html": [
       "<div>\n",
       "<style scoped>\n",
       "    .dataframe tbody tr th:only-of-type {\n",
       "        vertical-align: middle;\n",
       "    }\n",
       "\n",
       "    .dataframe tbody tr th {\n",
       "        vertical-align: top;\n",
       "    }\n",
       "\n",
       "    .dataframe thead th {\n",
       "        text-align: right;\n",
       "    }\n",
       "</style>\n",
       "<table border=\"1\" class=\"dataframe\">\n",
       "  <thead>\n",
       "    <tr style=\"text-align: right;\">\n",
       "      <th></th>\n",
       "      <th>order_id</th>\n",
       "      <th>ticket_id</th>\n",
       "      <th>passenger_id</th>\n",
       "      <th>passenger_gender</th>\n",
       "      <th>passenger_age</th>\n",
       "      <th>ticket_source_name</th>\n",
       "      <th>ticket_status</th>\n",
       "      <th>created_date</th>\n",
       "      <th>departure_date</th>\n",
       "      <th>departure_time</th>\n",
       "      <th>...</th>\n",
       "      <th>seat_class</th>\n",
       "      <th>ticket_price</th>\n",
       "      <th>baggage</th>\n",
       "      <th>insurance_fee</th>\n",
       "      <th>discount_amount</th>\n",
       "      <th>seat_category</th>\n",
       "      <th>age_group</th>\n",
       "      <th>lead_time_days</th>\n",
       "      <th>from</th>\n",
       "      <th>to</th>\n",
       "    </tr>\n",
       "  </thead>\n",
       "  <tbody>\n",
       "    <tr>\n",
       "      <th>0</th>\n",
       "      <td>20205</td>\n",
       "      <td>31268</td>\n",
       "      <td>Xs1fLinPQun+Oy/mD0FlfXMyJD38YlXJfXNbz+qO+5U=</td>\n",
       "      <td>Female</td>\n",
       "      <td>40</td>\n",
       "      <td>IOS</td>\n",
       "      <td>Paid</td>\n",
       "      <td>2023-03-01</td>\n",
       "      <td>2023-03-14</td>\n",
       "      <td>17:55:00</td>\n",
       "      <td>...</td>\n",
       "      <td>I1_ECO</td>\n",
       "      <td>867760</td>\n",
       "      <td>0</td>\n",
       "      <td>0</td>\n",
       "      <td>45000</td>\n",
       "      <td>Economy</td>\n",
       "      <td>Adults (35-59)</td>\n",
       "      <td>13</td>\n",
       "      <td>Đắk Lắk</td>\n",
       "      <td>Hồ Chí Minh</td>\n",
       "    </tr>\n",
       "    <tr>\n",
       "      <th>1</th>\n",
       "      <td>20190</td>\n",
       "      <td>31242</td>\n",
       "      <td>m/auVlEoaGSe2MqR/Lq4CFXJnI8zauNyF/KiFmMgXHs=</td>\n",
       "      <td>Female</td>\n",
       "      <td>40</td>\n",
       "      <td>GYL</td>\n",
       "      <td>Paid</td>\n",
       "      <td>2023-03-01</td>\n",
       "      <td>2023-03-02</td>\n",
       "      <td>09:30:00</td>\n",
       "      <td>...</td>\n",
       "      <td>Z1_ECO</td>\n",
       "      <td>974280</td>\n",
       "      <td>0</td>\n",
       "      <td>0</td>\n",
       "      <td>45000</td>\n",
       "      <td>Economy</td>\n",
       "      <td>Adults (35-59)</td>\n",
       "      <td>1</td>\n",
       "      <td>Đắk Lắk</td>\n",
       "      <td>Hồ Chí Minh</td>\n",
       "    </tr>\n",
       "    <tr>\n",
       "      <th>2</th>\n",
       "      <td>20245</td>\n",
       "      <td>31337</td>\n",
       "      <td>6HvtV2vTqUfNBJ53C4TzvJnb0s74KgcRNuUVS+8jRvU=</td>\n",
       "      <td>Female</td>\n",
       "      <td>48</td>\n",
       "      <td>IOS</td>\n",
       "      <td>Paid</td>\n",
       "      <td>2023-03-01</td>\n",
       "      <td>2023-04-10</td>\n",
       "      <td>13:10:00</td>\n",
       "      <td>...</td>\n",
       "      <td>J1_ECO</td>\n",
       "      <td>1423080</td>\n",
       "      <td>0</td>\n",
       "      <td>0</td>\n",
       "      <td>16000</td>\n",
       "      <td>Economy</td>\n",
       "      <td>Adults (35-59)</td>\n",
       "      <td>40</td>\n",
       "      <td>Thừa Thiên Huế</td>\n",
       "      <td>Hồ Chí Minh</td>\n",
       "    </tr>\n",
       "    <tr>\n",
       "      <th>3</th>\n",
       "      <td>20259</td>\n",
       "      <td>31360</td>\n",
       "      <td>WiK2P31WEd4mckRNVWz0C2aKKRgSrauAG8NdfTLnKjE=</td>\n",
       "      <td>Male</td>\n",
       "      <td>29</td>\n",
       "      <td>Android</td>\n",
       "      <td>New</td>\n",
       "      <td>2023-03-01</td>\n",
       "      <td>2023-04-10</td>\n",
       "      <td>13:10:00</td>\n",
       "      <td>...</td>\n",
       "      <td>J1_ECO</td>\n",
       "      <td>1067310</td>\n",
       "      <td>0</td>\n",
       "      <td>0</td>\n",
       "      <td>45000</td>\n",
       "      <td>Economy</td>\n",
       "      <td>Young Adults (18-34)</td>\n",
       "      <td>40</td>\n",
       "      <td>Thừa Thiên Huế</td>\n",
       "      <td>Hồ Chí Minh</td>\n",
       "    </tr>\n",
       "    <tr>\n",
       "      <th>4</th>\n",
       "      <td>20255</td>\n",
       "      <td>31355</td>\n",
       "      <td>6HvtV2vTqUfNBJ53C4TzvJnb0s74KgcRNuUVS+8jRvU=</td>\n",
       "      <td>Female</td>\n",
       "      <td>42</td>\n",
       "      <td>IOS</td>\n",
       "      <td>Paid</td>\n",
       "      <td>2023-03-01</td>\n",
       "      <td>2023-04-10</td>\n",
       "      <td>13:10:00</td>\n",
       "      <td>...</td>\n",
       "      <td>J1_ECO</td>\n",
       "      <td>1067310</td>\n",
       "      <td>0</td>\n",
       "      <td>0</td>\n",
       "      <td>24000</td>\n",
       "      <td>Economy</td>\n",
       "      <td>Adults (35-59)</td>\n",
       "      <td>40</td>\n",
       "      <td>Thừa Thiên Huế</td>\n",
       "      <td>Hồ Chí Minh</td>\n",
       "    </tr>\n",
       "  </tbody>\n",
       "</table>\n",
       "<p>5 rows × 25 columns</p>\n",
       "</div>"
      ],
      "text/plain": [
       "   order_id  ticket_id                                  passenger_id  \\\n",
       "0     20205      31268  Xs1fLinPQun+Oy/mD0FlfXMyJD38YlXJfXNbz+qO+5U=   \n",
       "1     20190      31242  m/auVlEoaGSe2MqR/Lq4CFXJnI8zauNyF/KiFmMgXHs=   \n",
       "2     20245      31337  6HvtV2vTqUfNBJ53C4TzvJnb0s74KgcRNuUVS+8jRvU=   \n",
       "3     20259      31360  WiK2P31WEd4mckRNVWz0C2aKKRgSrauAG8NdfTLnKjE=   \n",
       "4     20255      31355  6HvtV2vTqUfNBJ53C4TzvJnb0s74KgcRNuUVS+8jRvU=   \n",
       "\n",
       "  passenger_gender  passenger_age ticket_source_name ticket_status  \\\n",
       "0           Female             40                IOS          Paid   \n",
       "1           Female             40                GYL          Paid   \n",
       "2           Female             48                IOS          Paid   \n",
       "3             Male             29            Android           New   \n",
       "4           Female             42                IOS          Paid   \n",
       "\n",
       "  created_date departure_date departure_time  ... seat_class ticket_price  \\\n",
       "0   2023-03-01     2023-03-14       17:55:00  ...     I1_ECO       867760   \n",
       "1   2023-03-01     2023-03-02       09:30:00  ...     Z1_ECO       974280   \n",
       "2   2023-03-01     2023-04-10       13:10:00  ...     J1_ECO      1423080   \n",
       "3   2023-03-01     2023-04-10       13:10:00  ...     J1_ECO      1067310   \n",
       "4   2023-03-01     2023-04-10       13:10:00  ...     J1_ECO      1067310   \n",
       "\n",
       "  baggage insurance_fee discount_amount seat_category             age_group  \\\n",
       "0       0             0           45000       Economy        Adults (35-59)   \n",
       "1       0             0           45000       Economy        Adults (35-59)   \n",
       "2       0             0           16000       Economy        Adults (35-59)   \n",
       "3       0             0           45000       Economy  Young Adults (18-34)   \n",
       "4       0             0           24000       Economy        Adults (35-59)   \n",
       "\n",
       "   lead_time_days             from            to  \n",
       "0              13         Đắk Lắk    Hồ Chí Minh  \n",
       "1               1         Đắk Lắk    Hồ Chí Minh  \n",
       "2              40  Thừa Thiên Huế    Hồ Chí Minh  \n",
       "3              40  Thừa Thiên Huế    Hồ Chí Minh  \n",
       "4              40  Thừa Thiên Huế    Hồ Chí Minh  \n",
       "\n",
       "[5 rows x 25 columns]"
      ]
     },
     "execution_count": 11,
     "metadata": {},
     "output_type": "execute_result"
    }
   ],
   "source": [
    "# Đường dẫn đến file Excel\n",
    "file_path = r\"E:\\SkyRevenue Insights\\0. Data\\df_cleaned.xlsx\"\n",
    "\n",
    "# Kiểm tra file có tồn tại không\n",
    "import os\n",
    "if os.path.exists(file_path):\n",
    "    print(\"File tồn tại!\")\n",
    "else:\n",
    "    print(\"File không tồn tại, kiểm tra lại đường dẫn!\")\n",
    "    raise FileNotFoundError(\"File không tồn tại!\")\n",
    "\n",
    "# Đọc sheet \"Data\"\n",
    "df_org = pd.read_excel(file_path)\n",
    "df = df_org.copy()\n",
    "# Hiển thị vài dòng đầu của DataFrame để kiểm tra\n",
    "df.head()"
   ]
  },
  {
   "cell_type": "markdown",
   "id": "739e793c",
   "metadata": {},
   "source": [
    "# II. Analysis"
   ]
  },
  {
   "cell_type": "code",
   "execution_count": 12,
   "id": "3d1de567",
   "metadata": {},
   "outputs": [],
   "source": [
    "df['net_revenue'] = df['ticket_price'] - df['discount_amount'] + df['insurance_fee'] + df['baggage']"
   ]
  },
  {
   "cell_type": "code",
   "execution_count": 13,
   "id": "e27fc7b9",
   "metadata": {},
   "outputs": [
    {
     "name": "stdout",
     "output_type": "stream",
     "text": [
      "                       Metric     Value\n",
      "0           Unique Passengers   5252.00\n",
      "1              Total Bookings  18974.00\n",
      "2  Avg Bookings per Passenger      3.61\n"
     ]
    }
   ],
   "source": [
    "# Calculate metrics\n",
    "unique_passengers = df['passenger_id'].nunique()\n",
    "total_bookings = df['ticket_id'].count()\n",
    "avg_booking_per_pax = round(total_bookings / unique_passengers, 2)\n",
    "\n",
    "# Prepare result DataFrame\n",
    "metrics_df = pd.DataFrame({\n",
    "    'Metric': ['Unique Passengers', 'Total Bookings', 'Avg Bookings per Passenger'],\n",
    "    'Value': [unique_passengers, total_bookings, avg_booking_per_pax]\n",
    "})\n",
    "\n",
    "# Also print for quick view in notebook output\n",
    "print(metrics_df)"
   ]
  },
  {
   "cell_type": "code",
   "execution_count": 20,
   "id": "e9a0a232",
   "metadata": {},
   "outputs": [
    {
     "name": "stdout",
     "output_type": "stream",
     "text": [
      "              Segment  Customers   Pct\n",
      "0           Champions       1426  27.2\n",
      "1             At Risk       1380  26.3\n",
      "2  Potential Loyalist       1246  23.7\n",
      "3               Loyal        602  11.5\n",
      "4              Others        598  11.4\n"
     ]
    },
    {
     "data": {
      "image/png": "[encoded data removed]",
      "text/plain": [
       "<Figure size 800x450 with 1 Axes>"
      ]
     },
     "metadata": {},
     "output_type": "display_data"
    },
    {
     "name": "stdout",
     "output_type": "stream",
     "text": [
      "cohort_index    0         1         2\n",
      "cohort_month                         \n",
      "2023-03       1.0  0.216955  0.127161\n",
      "2023-04       1.0  0.129314       NaN\n",
      "2023-05       1.0       NaN       NaN\n"
     ]
    },
    {
     "data": {
      "image/png": "[encoded data removed]",
      "text/plain": [
       "<Figure size 800x400 with 1 Axes>"
      ]
     },
     "metadata": {},
     "output_type": "display_data"
    },
    {
     "name": "stdout",
     "output_type": "stream",
     "text": [
      "                  Unique_Pax  Share_%\n",
      "passenger_gender                     \n",
      "Female                  3311     50.3\n",
      "Male                    3266     49.7\n",
      "           Unique_Pax  Share_%\n",
      "age_group                     \n",
      "<25              2500     37.0\n",
      "25-34            2358     34.9\n",
      "35-44             829     12.3\n",
      "45-54             564      8.3\n",
      "55+               507      7.5\n"
     ]
    },
    {
     "name": "stderr",
     "output_type": "stream",
     "text": [
      "C:\\Users\\ADMIN\\AppData\\Local\\Temp\\ipykernel_15204\\3217150210.py:91: FutureWarning: The default of observed=False is deprecated and will be changed to True in a future version of pandas. Pass observed=False to retain current behavior or observed=True to adopt the future default and silence this warning.\n",
      "  age = (df.groupby(\"age_group\")[\"passenger_id\"]\n"
     ]
    },
    {
     "data": {
      "image/png": "[encoded data removed]",
      "text/plain": [
       "<Figure size 500x400 with 1 Axes>"
      ]
     },
     "metadata": {},
     "output_type": "display_data"
    },
    {
     "data": {
      "image/png": "[encoded data removed]",
      "text/plain": [
       "<Figure size 600x400 with 1 Axes>"
      ]
     },
     "metadata": {},
     "output_type": "display_data"
    }
   ],
   "source": [
    "# =============================================================\n",
    "#          CUSTOMER ANALYTICS DASHBOARD  (design v2)\n",
    "# =============================================================\n",
    "# ------------------ 2. RFM SEGMENTATION ----------------------\n",
    "today = df[\"created_date\"].max() + pd.Timedelta(days=1)\n",
    "\n",
    "rfm = (\n",
    "    df.groupby(\"passenger_id\")\n",
    "      .agg(\n",
    "          Last_Purchase=(\"created_date\", \"max\"),\n",
    "          Frequency=(\"ticket_id\", \"count\"),\n",
    "          Monetary=(\"net_revenue\", \"sum\")\n",
    "      )\n",
    ")\n",
    "rfm[\"Recency\"] = (today - rfm[\"Last_Purchase\"]).dt.days\n",
    "rfm.drop(columns=\"Last_Purchase\", inplace=True)\n",
    "\n",
    "# Quartile scores\n",
    "rfm[\"R\"] = pd.qcut(rfm[\"Recency\"], 4, labels=[4,3,2,1]).astype(int)\n",
    "rfm[\"F\"] = pd.qcut(rfm[\"Frequency\"].rank(method=\"first\"), 4,\n",
    "                   labels=[1,2,3,4]).astype(int)\n",
    "rfm[\"M\"] = pd.qcut(rfm[\"Monetary\"], 4, labels=[1,2,3,4]).astype(int)\n",
    "\n",
    "def segment(r):\n",
    "    if r[\"R\"]>=3 and r[\"F\"]>=3:  return \"Champions\"\n",
    "    if r[\"R\"]>=3 and r[\"F\"]<=2: return \"Potential Loyalist\"\n",
    "    if r[\"R\"]==2 and r[\"F\"]>=3: return \"Loyal\"\n",
    "    if r[\"R\"]<=2 and r[\"F\"]<=2: return \"At Risk\"\n",
    "    return \"Others\"\n",
    "rfm[\"Segment\"] = rfm.apply(segment, axis=1)\n",
    "\n",
    "# 👉 FIX: reset_index(name='Customers') để cột đếm là int\n",
    "seg_summary = (rfm[\"Segment\"]\n",
    "               .value_counts()\n",
    "               .reset_index(name=\"Customers\")      # <-- đếm\n",
    "               .rename(columns={\"index\": \"Segment\"}))\n",
    "\n",
    "seg_summary[\"Pct\"] = (\n",
    "    seg_summary[\"Customers\"] / seg_summary[\"Customers\"].sum() * 100\n",
    ").round(1)\n",
    "\n",
    "print(seg_summary)\n",
    "\n",
    "\n",
    "# ------- Treemap -------\n",
    "plt.figure(figsize=(8,4.5))\n",
    "sizes  = seg_summary[\"Customers\"]\n",
    "labels = [f\"{row.Segment}\\n{row.Customers} ({row.Pct}%)\"\n",
    "          for row in seg_summary.itertuples()]\n",
    "colors = sns.color_palette(\"Blues\", len(sizes)).as_hex()\n",
    "squarify.plot(sizes=sizes, label=labels, color=colors,\n",
    "              text_kwargs={\"weight\":\"bold\"}, alpha=.8)\n",
    "plt.title(\"RFM Segments – Treemap\", fontsize=14, fontweight=\"bold\", pad=12)\n",
    "plt.axis(\"off\")\n",
    "plt.figtext(0.99,0.01,\"Source: SkyRevenue\",ha=\"right\",fontsize=8,color=\"gray\")\n",
    "plt.tight_layout(); plt.show()\n",
    "\n",
    "# ---------- 3. COHORT ----------\n",
    "df[\"order_month\"]  = df[\"created_date\"].dt.to_period(\"M\")\n",
    "df[\"cohort_month\"] = df.groupby(\"passenger_id\")[\"order_month\"].transform(\"min\")\n",
    "df[\"cohort_index\"] = (df[\"order_month\"] - df[\"cohort_month\"]).apply(lambda x: x.n)\n",
    "\n",
    "coh = (df.groupby([\"cohort_month\",\"cohort_index\"])[\"passenger_id\"]\n",
    "         .nunique().reset_index())\n",
    "coh_pivot = coh.pivot(index=\"cohort_month\", columns=\"cohort_index\",\n",
    "                      values=\"passenger_id\")\n",
    "retention = coh_pivot.divide(coh_pivot.iloc[:,0], axis=0)\n",
    "\n",
    "print(retention)\n",
    "\n",
    "annot = (retention*100).round(0).astype(\"Int64\").astype(str)+\"%\"\n",
    "plt.figure(figsize=(8,4))\n",
    "sns.heatmap(retention*100, annot=annot, fmt=\"\",\n",
    "            cmap=\"YlGnBu\", cbar=False, linewidths=.5, linecolor=\"white\")\n",
    "plt.title(\"Retention Cohort Heatmap\", fontsize=14, fontweight=\"bold\", pad=12)\n",
    "plt.xlabel(\"Months since First Booking\"); plt.ylabel(\"Cohort (YYYY-MM)\")\n",
    "plt.tight_layout(rect=[0,0.05,1,1])\n",
    "plt.figtext(0.99,0.01,\"Source: SkyRevenue\",ha=\"right\",fontsize=8,color=\"gray\")\n",
    "plt.show()\n",
    "\n",
    "# ---------- 4. DEMOGRAPHICS ----------\n",
    "# Gender\n",
    "gender = (df.groupby(\"passenger_gender\")[\"passenger_id\"]\n",
    "            .nunique().to_frame(\"Unique_Pax\"))\n",
    "gender[\"Share_%\"] = (gender[\"Unique_Pax\"]/gender[\"Unique_Pax\"].sum()*100).round(1)\n",
    "print(gender)\n",
    "\n",
    "# Age\n",
    "bins=[0,24,34,44,54,150]; labels=[\"<25\",\"25-34\",\"35-44\",\"45-54\",\"55+\"]\n",
    "df[\"age_group\"] = pd.cut(df[\"passenger_age\"], bins=bins, labels=labels)\n",
    "age = (df.groupby(\"age_group\")[\"passenger_id\"]\n",
    "         .nunique().to_frame(\"Unique_Pax\"))\n",
    "age[\"Share_%\"] = (age[\"Unique_Pax\"]/age[\"Unique_Pax\"].sum()*100).round(1)\n",
    "print(age)\n",
    "\n",
    "def pie(series, title, palette, size=(6,4)):\n",
    "    fig, ax = plt.subplots(figsize=size)\n",
    "    labels=[f\"{idx}\\n{row['Share_%']}%\" for idx,row in series.iterrows()]\n",
    "    ax.pie(series[\"Unique_Pax\"], labels=labels, colors=palette,\n",
    "           startangle=90, autopct=lambda pct:\"\", wedgeprops=dict(edgecolor=\"black\"))\n",
    "    ax.set_title(title, fontsize=13, fontweight=\"bold\")\n",
    "    plt.tight_layout(); plt.figtext(0.99,0.02,\"Source: SkyRevenue\",\n",
    "                                    ha=\"right\",fontsize=8,color=\"gray\")\n",
    "    plt.show()\n",
    "\n",
    "pie(gender, \"Passenger Gender Share\",\n",
    "    sns.color_palette(\"pastel\")[:len(gender)], (5,4))\n",
    "pie(age, \"Passenger Age Group Share\",\n",
    "    sns.color_palette(\"pastel\")[2:2+len(age)], (6,4))"
   ]
  }
 ],
 "metadata": {
  "kernelspec": {
   "display_name": ".venv",
   "language": "python",
   "name": "python3"
  },
  "language_info": {
   "codemirror_mode": {
    "name": "ipython",
    "version": 3
   },
   "file_extension": ".py",
   "mimetype": "text/x-python",
   "name": "python",
   "nbconvert_exporter": "python",
   "pygments_lexer": "ipython3",
   "version": "3.12.10"
  }
 },
 "nbformat": 4,
 "nbformat_minor": 5
}
